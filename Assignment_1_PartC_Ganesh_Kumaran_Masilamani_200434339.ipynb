{
  "nbformat": 4,
  "nbformat_minor": 0,
  "metadata": {
    "accelerator": "GPU",
    "colab": {
      "name": "Assignment_1_PartC-Ganesh Kumaran Masilamani-200434339.ipynb",
      "provenance": [],
      "collapsed_sections": [],
      "machine_shape": "hm"
    },
    "kernelspec": {
      "display_name": "Python 3",
      "language": "python",
      "name": "python3"
    },
    "language_info": {
      "codemirror_mode": {
        "name": "ipython",
        "version": 3
      },
      "file_extension": ".py",
      "mimetype": "text/x-python",
      "name": "python",
      "nbconvert_exporter": "python",
      "pygments_lexer": "ipython3",
      "version": "3.8.3"
    }
  },
  "cells": [
    {
      "cell_type": "markdown",
      "metadata": {
        "id": "hExKCzh6doIW"
      },
      "source": [
        "##**Asssignment1-PART-C -Comparing Classification Models**"
      ]
    },
    {
      "cell_type": "code",
      "metadata": {
        "id": "m8fpBfhBpupy"
      },
      "source": [
        "import keras\n",
        "import numpy as np\n",
        "from keras.layers import Lambda, GlobalAveragePooling1D, Dense, Embedding\n",
        "from keras import backend as K\n",
        "from keras.models import Sequential\n",
        "import matplotlib.pyplot as plt"
      ],
      "execution_count": null,
      "outputs": []
    },
    {
      "cell_type": "markdown",
      "metadata": {
        "id": "cqvPQvgvPv1W"
      },
      "source": [
        "### Downloading data"
      ]
    },
    {
      "cell_type": "code",
      "metadata": {
        "colab": {
          "base_uri": "https://localhost:8080/"
        },
        "id": "NyuSzkafqNca",
        "outputId": "efab9a75-3fba-47f3-e574-d01829f3f868"
      },
      "source": [
        "imdb = keras.datasets.imdb\n",
        "(X_train, y_train), (X_test, y_test) = imdb.load_data(num_words=10000)"
      ],
      "execution_count": null,
      "outputs": [
        {
          "output_type": "stream",
          "text": [
            "<string>:6: VisibleDeprecationWarning: Creating an ndarray from ragged nested sequences (which is a list-or-tuple of lists-or-tuples-or ndarrays with different lengths or shapes) is deprecated. If you meant to do this, you must specify 'dtype=object' when creating the ndarray\n",
            "/usr/local/lib/python3.7/dist-packages/tensorflow/python/keras/datasets/imdb.py:159: VisibleDeprecationWarning: Creating an ndarray from ragged nested sequences (which is a list-or-tuple of lists-or-tuples-or ndarrays with different lengths or shapes) is deprecated. If you meant to do this, you must specify 'dtype=object' when creating the ndarray\n",
            "  x_train, y_train = np.array(xs[:idx]), np.array(labels[:idx])\n",
            "/usr/local/lib/python3.7/dist-packages/tensorflow/python/keras/datasets/imdb.py:160: VisibleDeprecationWarning: Creating an ndarray from ragged nested sequences (which is a list-or-tuple of lists-or-tuples-or ndarrays with different lengths or shapes) is deprecated. If you meant to do this, you must specify 'dtype=object' when creating the ndarray\n",
            "  x_test, y_test = np.array(xs[idx:]), np.array(labels[idx:])\n"
          ],
          "name": "stderr"
        }
      ]
    },
    {
      "cell_type": "code",
      "metadata": {
        "colab": {
          "base_uri": "https://localhost:8080/"
        },
        "id": "h-gjWRAuqg5s",
        "outputId": "214ac2af-1570-44c4-c55d-02d98c1e41e1"
      },
      "source": [
        "print(\"Training entries: {}, labels: {}\".format(len(X_train), len(y_train)))"
      ],
      "execution_count": null,
      "outputs": [
        {
          "output_type": "stream",
          "text": [
            "Training entries: 25000, labels: 25000\n"
          ],
          "name": "stdout"
        }
      ]
    },
    {
      "cell_type": "code",
      "metadata": {
        "colab": {
          "base_uri": "https://localhost:8080/"
        },
        "id": "79Ev72Kgq4XL",
        "outputId": "28719bd7-1fb2-4c02-aef5-0efa96f5b1eb"
      },
      "source": [
        " X_train[0][:10]"
      ],
      "execution_count": null,
      "outputs": [
        {
          "output_type": "execute_result",
          "data": {
            "text/plain": [
              "[1, 14, 22, 16, 43, 530, 973, 1622, 1385, 65]"
            ]
          },
          "metadata": {
            "tags": []
          },
          "execution_count": 4
        }
      ]
    },
    {
      "cell_type": "code",
      "metadata": {
        "id": "gMCH1OoDrSNR"
      },
      "source": [
        "word_index = imdb.get_word_index()"
      ],
      "execution_count": null,
      "outputs": []
    },
    {
      "cell_type": "code",
      "metadata": {
        "id": "abIb7Fe5u3GQ"
      },
      "source": [
        "word_index = {k:(v+3) for k,v in word_index.items()}\n",
        "word_index[\"<PAD>\"] = 0\n",
        "word_index[\"<START>\"] = 1\n",
        "word_index[\"<UNK>\"] = 2  \n",
        "word_index[\"<UNUSED>\"] = 3"
      ],
      "execution_count": null,
      "outputs": []
    },
    {
      "cell_type": "markdown",
      "metadata": {
        "id": "9TnnSuspvC5b"
      },
      "source": [
        "To reverse key and values in a dictionary:"
      ]
    },
    {
      "cell_type": "code",
      "metadata": {
        "id": "nKOiVVXQu-_I"
      },
      "source": [
        "reverse_word_index = dict([(value, key) for (key, value) in word_index.items()])"
      ],
      "execution_count": null,
      "outputs": []
    },
    {
      "cell_type": "code",
      "metadata": {
        "colab": {
          "base_uri": "https://localhost:8080/",
          "height": 37
        },
        "id": "SqN5jgVKvJJZ",
        "outputId": "9d59d116-46d3-4d7e-89b3-fa5a15475d77"
      },
      "source": [
        "reverse_word_index[25]"
      ],
      "execution_count": null,
      "outputs": [
        {
          "output_type": "execute_result",
          "data": {
            "application/vnd.google.colaboratory.intrinsic+json": {
              "type": "string"
            },
            "text/plain": [
              "'you'"
            ]
          },
          "metadata": {
            "tags": []
          },
          "execution_count": 8
        }
      ]
    },
    {
      "cell_type": "markdown",
      "metadata": {
        "id": "Q6QjrzgVvrYn"
      },
      "source": [
        "And to recreate the whole sentence from our training data we define decode_review:\n"
      ]
    },
    {
      "cell_type": "code",
      "metadata": {
        "id": "wvrKeMgxvWlv"
      },
      "source": [
        "def decode_review(text):\n",
        "    return ' '.join([reverse_word_index.get(i, '?') for i in text])"
      ],
      "execution_count": null,
      "outputs": []
    },
    {
      "cell_type": "code",
      "metadata": {
        "colab": {
          "base_uri": "https://localhost:8080/",
          "height": 140
        },
        "id": "Sxg4YA_NvdRg",
        "outputId": "d9327e73-b91d-4c75-a8b5-e3e801e4d972"
      },
      "source": [
        "decode_review(X_train[10])"
      ],
      "execution_count": null,
      "outputs": [
        {
          "output_type": "execute_result",
          "data": {
            "application/vnd.google.colaboratory.intrinsic+json": {
              "type": "string"
            },
            "text/plain": [
              "\"<START> french horror cinema has seen something of a revival over the last couple of years with great films such as inside and <UNK> romance <UNK> on to the scene <UNK> <UNK> the revival just slightly but stands head and shoulders over most modern horror titles and is surely one of the best french horror films ever made <UNK> was obviously shot on a low budget but this is made up for in far more ways than one by the originality of the film and this in turn is <UNK> by the excellent writing and acting that ensure the film is a winner the plot focuses on two main ideas prison and black magic the central character is a man named <UNK> sent to prison for fraud he is put in a cell with three others the quietly insane <UNK> body building <UNK> marcus and his retarded boyfriend daisy after a short while in the cell together they stumble upon a hiding place in the wall that contains an old <UNK> after <UNK> part of it they soon realise its magical powers and realise they may be able to use it to break through the prison walls br br black magic is a very interesting topic and i'm actually quite surprised that there aren't more films based on it as there's so much scope for things to do with it it's fair to say that <UNK> makes the best of it's <UNK> as despite it's <UNK> the film never actually feels restrained and manages to flow well throughout director eric <UNK> provides a great atmosphere for the film the fact that most of it takes place inside the central prison cell <UNK> that the film feels very claustrophobic and this immensely benefits the central idea of the prisoners wanting to use magic to break out of the cell it's very easy to get behind them it's often said that the unknown is the thing that really <UNK> people and this film proves that as the director <UNK> that we can never really be sure of exactly what is round the corner and this helps to ensure that <UNK> actually does manage to be quite frightening the film is memorable for a lot of reasons outside the central plot the characters are all very interesting in their own way and the fact that the book itself almost takes on its own character is very well done anyone worried that the film won't deliver by the end won't be disappointed either as the ending both makes sense and manages to be quite horrifying overall <UNK> is a truly great horror film and one of the best of the decade highly recommended viewing\""
            ]
          },
          "metadata": {
            "tags": []
          },
          "execution_count": 10
        }
      ]
    },
    {
      "cell_type": "markdown",
      "metadata": {
        "id": "c8gIzXncfaJK"
      },
      "source": [
        "### Creating One-hot word vectors"
      ]
    },
    {
      "cell_type": "code",
      "metadata": {
        "id": "RPO_pK9zH4C5"
      },
      "source": [
        "def OneHot(input_dim=None, input_length=None):\n",
        "    \n",
        "    if input_dim is None or input_length is None:\n",
        "        raise TypeError(\"input_dim or input_length is not set\")\n",
        "\n",
        "    \n",
        "    def _one_hot(x, num_classes):\n",
        "        return K.one_hot(K.cast(x, 'uint8'),\n",
        "                          num_classes=num_classes)\n",
        "\n",
        "    return Lambda(_one_hot,\n",
        "                  arguments={'num_classes': input_dim},\n",
        "                  input_shape=(input_length,))"
      ],
      "execution_count": null,
      "outputs": []
    },
    {
      "cell_type": "markdown",
      "metadata": {
        "id": "9G_o7PsvgSFt"
      },
      "source": [
        "### Preparing input data"
      ]
    },
    {
      "cell_type": "code",
      "metadata": {
        "id": "jiFn7sd_wF5j"
      },
      "source": [
        "VOCAB_SIZE = 10000\n",
        "MAX_SEQUENCE_LENGTH = 256\n",
        "\n",
        "#padding the train and test data\n",
        "X_train_enc = keras.preprocessing.sequence.pad_sequences(X_train,\n",
        "                                                        value=word_index[\"<PAD>\"],\n",
        "                                                        padding='post',\n",
        "                                                        maxlen=256)\n",
        "\n",
        "X_test_enc = keras.preprocessing.sequence.pad_sequences(X_test,\n",
        "                                                       value=word_index[\"<PAD>\"],\n",
        "                                                       padding='post',\n",
        "                                                       maxlen=256)"
      ],
      "execution_count": null,
      "outputs": []
    },
    {
      "cell_type": "code",
      "metadata": {
        "colab": {
          "base_uri": "https://localhost:8080/"
        },
        "id": "zwH4dcfW_a18",
        "outputId": "a4096925-b0a2-4c57-aa89-aac6913629fb"
      },
      "source": [
        "print(X_train_enc[1])\n",
        "print('\\nLength: ',len(X_train_enc))"
      ],
      "execution_count": null,
      "outputs": [
        {
          "output_type": "stream",
          "text": [
            "[   1  194 1153  194 8255   78  228    5    6 1463 4369 5012  134   26\n",
            "    4  715    8  118 1634   14  394   20   13  119  954  189  102    5\n",
            "  207  110 3103   21   14   69  188    8   30   23    7    4  249  126\n",
            "   93    4  114    9 2300 1523    5  647    4  116    9   35 8163    4\n",
            "  229    9  340 1322    4  118    9    4  130 4901   19    4 1002    5\n",
            "   89   29  952   46   37    4  455    9   45   43   38 1543 1905  398\n",
            "    4 1649   26 6853    5  163   11 3215    2    4 1153    9  194  775\n",
            "    7 8255    2  349 2637  148  605    2 8003   15  123  125   68    2\n",
            " 6853   15  349  165 4362   98    5    4  228    9   43    2 1157   15\n",
            "  299  120    5  120  174   11  220  175  136   50    9 4373  228 8255\n",
            "    5    2  656  245 2350    5    4 9837  131  152  491   18    2   32\n",
            " 7464 1212   14    9    6  371   78   22  625   64 1382    9    8  168\n",
            "  145   23    4 1690   15   16    4 1355    5   28    6   52  154  462\n",
            "   33   89   78  285   16  145   95    0    0    0    0    0    0    0\n",
            "    0    0    0    0    0    0    0    0    0    0    0    0    0    0\n",
            "    0    0    0    0    0    0    0    0    0    0    0    0    0    0\n",
            "    0    0    0    0    0    0    0    0    0    0    0    0    0    0\n",
            "    0    0    0    0    0    0    0    0    0    0    0    0    0    0\n",
            "    0    0    0    0]\n",
            "\n",
            "Length:  25000\n"
          ],
          "name": "stdout"
        }
      ]
    },
    {
      "cell_type": "code",
      "metadata": {
        "id": "Yi04MLIvJOGZ"
      },
      "source": [
        "class GlobalAveragePooling1DMasked(GlobalAveragePooling1D):\n",
        "    def call(self, x, mask=None):\n",
        "        if mask != None:\n",
        "            return K.sum(x, axis=1) / K.sum(mask, axis=1)\n",
        "        else:\n",
        "            return super().call(x)\n"
      ],
      "execution_count": null,
      "outputs": []
    },
    {
      "cell_type": "markdown",
      "metadata": {
        "id": "whgIIB5ggjna"
      },
      "source": [
        "# **Model 1: Neural averaging network using one-hot vectors**"
      ]
    },
    {
      "cell_type": "code",
      "metadata": {
        "colab": {
          "base_uri": "https://localhost:8080/"
        },
        "id": "_Pn83gBbxiK7",
        "outputId": "30e7defe-15b2-407c-fdd0-31a88740aa89"
      },
      "source": [
        "# your code goes here\n",
        "\n",
        "#sequential library is used to add layer one by one\n",
        "model = Sequential()\n",
        "#first layer --> onehot encoding layer\n",
        "model.add(OneHot(VOCAB_SIZE, MAX_SEQUENCE_LENGTH))\n",
        "#second layer --> globalpooling layer\n",
        "model.add(GlobalAveragePooling1DMasked())\n",
        "#third layer --> dense layer which is otherwise known as output layer\n",
        "model.add(Dense(1, activation='sigmoid', name=\"output_layer\"))\n",
        "\n",
        "model.summary()"
      ],
      "execution_count": null,
      "outputs": [
        {
          "output_type": "stream",
          "text": [
            "Model: \"sequential\"\n",
            "_________________________________________________________________\n",
            "Layer (type)                 Output Shape              Param #   \n",
            "=================================================================\n",
            "lambda (Lambda)              (None, 256, 10000)        0         \n",
            "_________________________________________________________________\n",
            "global_average_pooling1d_mas (None, 10000)             0         \n",
            "_________________________________________________________________\n",
            "output_layer (Dense)         (None, 1)                 10001     \n",
            "=================================================================\n",
            "Total params: 10,001\n",
            "Trainable params: 10,001\n",
            "Non-trainable params: 0\n",
            "_________________________________________________________________\n"
          ],
          "name": "stdout"
        }
      ]
    },
    {
      "cell_type": "markdown",
      "metadata": {
        "id": "_Mz96xpCgvTj"
      },
      "source": [
        "### Training the model"
      ]
    },
    {
      "cell_type": "code",
      "metadata": {
        "id": "qh1PWTNMxjUw"
      },
      "source": [
        "# your code goes here\n",
        "\n",
        "#compiling the model\n",
        "model.compile(optimizer='adam', loss='binary_crossentropy', metrics=['accuracy'])"
      ],
      "execution_count": null,
      "outputs": []
    },
    {
      "cell_type": "code",
      "metadata": {
        "id": "f5lAqzQlxjSM"
      },
      "source": [
        "#creating the validation set\n",
        "X_val = np.array(X_train_enc[:10000])\n",
        "partial_X_train = np.array(X_train_enc[10000:])\n",
        "\n",
        "y_val = np.array(y_train[:10000])\n",
        "partial_y_train = np.array(y_train[10000:])"
      ],
      "execution_count": null,
      "outputs": []
    },
    {
      "cell_type": "code",
      "metadata": {
        "colab": {
          "base_uri": "https://localhost:8080/"
        },
        "id": "99_z39KAxjPi",
        "outputId": "8ab455b9-6db7-406f-a174-b923a847988c"
      },
      "source": [
        "#Training to monitor the model loss and accuracy on validation set\n",
        "history = model.fit(partial_X_train,\n",
        "                    partial_y_train,\n",
        "                    epochs=40,\n",
        "                    batch_size=512,\n",
        "                    validation_data=(X_val, y_val),\n",
        "                    verbose=1)"
      ],
      "execution_count": null,
      "outputs": [
        {
          "output_type": "stream",
          "text": [
            "Epoch 1/40\n",
            "30/30 [==============================] - 4s 116ms/step - loss: 0.6931 - accuracy: 0.5026 - val_loss: 0.6928 - val_accuracy: 0.5364\n",
            "Epoch 2/40\n",
            "30/30 [==============================] - 3s 104ms/step - loss: 0.6926 - accuracy: 0.5555 - val_loss: 0.6924 - val_accuracy: 0.5553\n",
            "Epoch 3/40\n",
            "30/30 [==============================] - 3s 104ms/step - loss: 0.6922 - accuracy: 0.5706 - val_loss: 0.6920 - val_accuracy: 0.5764\n",
            "Epoch 4/40\n",
            "30/30 [==============================] - 3s 104ms/step - loss: 0.6918 - accuracy: 0.5793 - val_loss: 0.6917 - val_accuracy: 0.5678\n",
            "Epoch 5/40\n",
            "30/30 [==============================] - 3s 104ms/step - loss: 0.6914 - accuracy: 0.5942 - val_loss: 0.6913 - val_accuracy: 0.6127\n",
            "Epoch 6/40\n",
            "30/30 [==============================] - 3s 104ms/step - loss: 0.6910 - accuracy: 0.6084 - val_loss: 0.6909 - val_accuracy: 0.5940\n",
            "Epoch 7/40\n",
            "30/30 [==============================] - 3s 104ms/step - loss: 0.6906 - accuracy: 0.6201 - val_loss: 0.6905 - val_accuracy: 0.6248\n",
            "Epoch 8/40\n",
            "30/30 [==============================] - 3s 104ms/step - loss: 0.6901 - accuracy: 0.6308 - val_loss: 0.6901 - val_accuracy: 0.6316\n",
            "Epoch 9/40\n",
            "30/30 [==============================] - 3s 104ms/step - loss: 0.6898 - accuracy: 0.6442 - val_loss: 0.6898 - val_accuracy: 0.6433\n",
            "Epoch 10/40\n",
            "30/30 [==============================] - 3s 104ms/step - loss: 0.6893 - accuracy: 0.6533 - val_loss: 0.6894 - val_accuracy: 0.6416\n",
            "Epoch 11/40\n",
            "30/30 [==============================] - 3s 104ms/step - loss: 0.6890 - accuracy: 0.6560 - val_loss: 0.6890 - val_accuracy: 0.6488\n",
            "Epoch 12/40\n",
            "30/30 [==============================] - 3s 104ms/step - loss: 0.6885 - accuracy: 0.6569 - val_loss: 0.6887 - val_accuracy: 0.6385\n",
            "Epoch 13/40\n",
            "30/30 [==============================] - 3s 104ms/step - loss: 0.6882 - accuracy: 0.6502 - val_loss: 0.6883 - val_accuracy: 0.6526\n",
            "Epoch 14/40\n",
            "30/30 [==============================] - 3s 104ms/step - loss: 0.6878 - accuracy: 0.6591 - val_loss: 0.6879 - val_accuracy: 0.6536\n",
            "Epoch 15/40\n",
            "30/30 [==============================] - 3s 104ms/step - loss: 0.6874 - accuracy: 0.6618 - val_loss: 0.6876 - val_accuracy: 0.6530\n",
            "Epoch 16/40\n",
            "30/30 [==============================] - 3s 104ms/step - loss: 0.6870 - accuracy: 0.6633 - val_loss: 0.6872 - val_accuracy: 0.6561\n",
            "Epoch 17/40\n",
            "30/30 [==============================] - 3s 104ms/step - loss: 0.6866 - accuracy: 0.6609 - val_loss: 0.6868 - val_accuracy: 0.6556\n",
            "Epoch 18/40\n",
            "30/30 [==============================] - 3s 104ms/step - loss: 0.6861 - accuracy: 0.6674 - val_loss: 0.6865 - val_accuracy: 0.6609\n",
            "Epoch 19/40\n",
            "30/30 [==============================] - 3s 104ms/step - loss: 0.6857 - accuracy: 0.6744 - val_loss: 0.6861 - val_accuracy: 0.6597\n",
            "Epoch 20/40\n",
            "30/30 [==============================] - 3s 104ms/step - loss: 0.6853 - accuracy: 0.6725 - val_loss: 0.6857 - val_accuracy: 0.6639\n",
            "Epoch 21/40\n",
            "30/30 [==============================] - 3s 104ms/step - loss: 0.6851 - accuracy: 0.6713 - val_loss: 0.6854 - val_accuracy: 0.6621\n",
            "Epoch 22/40\n",
            "30/30 [==============================] - 3s 104ms/step - loss: 0.6848 - accuracy: 0.6687 - val_loss: 0.6851 - val_accuracy: 0.6620\n",
            "Epoch 23/40\n",
            "30/30 [==============================] - 3s 104ms/step - loss: 0.6842 - accuracy: 0.6752 - val_loss: 0.6847 - val_accuracy: 0.6659\n",
            "Epoch 24/40\n",
            "30/30 [==============================] - 3s 104ms/step - loss: 0.6838 - accuracy: 0.6717 - val_loss: 0.6844 - val_accuracy: 0.6656\n",
            "Epoch 25/40\n",
            "30/30 [==============================] - 3s 104ms/step - loss: 0.6834 - accuracy: 0.6784 - val_loss: 0.6840 - val_accuracy: 0.6667\n",
            "Epoch 26/40\n",
            "30/30 [==============================] - 3s 105ms/step - loss: 0.6829 - accuracy: 0.6783 - val_loss: 0.6837 - val_accuracy: 0.6671\n",
            "Epoch 27/40\n",
            "30/30 [==============================] - 3s 104ms/step - loss: 0.6829 - accuracy: 0.6793 - val_loss: 0.6833 - val_accuracy: 0.6673\n",
            "Epoch 28/40\n",
            "30/30 [==============================] - 3s 104ms/step - loss: 0.6825 - accuracy: 0.6784 - val_loss: 0.6829 - val_accuracy: 0.6687\n",
            "Epoch 29/40\n",
            "30/30 [==============================] - 3s 104ms/step - loss: 0.6825 - accuracy: 0.6727 - val_loss: 0.6826 - val_accuracy: 0.6679\n",
            "Epoch 30/40\n",
            "30/30 [==============================] - 3s 104ms/step - loss: 0.6821 - accuracy: 0.6740 - val_loss: 0.6822 - val_accuracy: 0.6673\n",
            "Epoch 31/40\n",
            "30/30 [==============================] - 3s 104ms/step - loss: 0.6815 - accuracy: 0.6795 - val_loss: 0.6819 - val_accuracy: 0.6694\n",
            "Epoch 32/40\n",
            "30/30 [==============================] - 3s 104ms/step - loss: 0.6808 - accuracy: 0.6814 - val_loss: 0.6816 - val_accuracy: 0.6702\n",
            "Epoch 33/40\n",
            "30/30 [==============================] - 3s 104ms/step - loss: 0.6805 - accuracy: 0.6799 - val_loss: 0.6812 - val_accuracy: 0.6702\n",
            "Epoch 34/40\n",
            "30/30 [==============================] - 3s 104ms/step - loss: 0.6804 - accuracy: 0.6821 - val_loss: 0.6809 - val_accuracy: 0.6720\n",
            "Epoch 35/40\n",
            "30/30 [==============================] - 3s 104ms/step - loss: 0.6796 - accuracy: 0.6775 - val_loss: 0.6806 - val_accuracy: 0.6717\n",
            "Epoch 36/40\n",
            "30/30 [==============================] - 3s 104ms/step - loss: 0.6798 - accuracy: 0.6808 - val_loss: 0.6803 - val_accuracy: 0.6728\n",
            "Epoch 37/40\n",
            "30/30 [==============================] - 3s 104ms/step - loss: 0.6791 - accuracy: 0.6783 - val_loss: 0.6799 - val_accuracy: 0.6726\n",
            "Epoch 38/40\n",
            "30/30 [==============================] - 3s 104ms/step - loss: 0.6790 - accuracy: 0.6774 - val_loss: 0.6796 - val_accuracy: 0.6724\n",
            "Epoch 39/40\n",
            "30/30 [==============================] - 3s 104ms/step - loss: 0.6783 - accuracy: 0.6807 - val_loss: 0.6793 - val_accuracy: 0.6731\n",
            "Epoch 40/40\n",
            "30/30 [==============================] - 3s 104ms/step - loss: 0.6780 - accuracy: 0.6817 - val_loss: 0.6789 - val_accuracy: 0.6733\n"
          ],
          "name": "stdout"
        }
      ]
    },
    {
      "cell_type": "markdown",
      "metadata": {
        "id": "i_9a_rybhG5J"
      },
      "source": [
        "### Evaluating the model"
      ]
    },
    {
      "cell_type": "markdown",
      "metadata": {
        "id": "EYLH8kOgOo9W"
      },
      "source": [
        "To evaulate the model on test data:"
      ]
    },
    {
      "cell_type": "code",
      "metadata": {
        "colab": {
          "base_uri": "https://localhost:8080/"
        },
        "id": "CFMt2Q7b3taP",
        "outputId": "6e4af5f8-3e82-47b1-f657-f41bee840dbe"
      },
      "source": [
        "#evaluate on the test data\n",
        "results = model.evaluate(X_test_enc, y_test)"
      ],
      "execution_count": null,
      "outputs": [
        {
          "output_type": "stream",
          "text": [
            "782/782 [==============================] - 4s 5ms/step - loss: 0.6787 - accuracy: 0.6761\n"
          ],
          "name": "stdout"
        }
      ]
    },
    {
      "cell_type": "code",
      "metadata": {
        "colab": {
          "base_uri": "https://localhost:8080/"
        },
        "id": "9RrKiPHcAmQU",
        "outputId": "b26d549d-cfcc-40e3-dd40-eed06a4ca646"
      },
      "source": [
        "print(results)\n",
        "#loss, accuracy "
      ],
      "execution_count": null,
      "outputs": [
        {
          "output_type": "stream",
          "text": [
            "[0.6786719560623169, 0.6760799884796143]\n"
          ],
          "name": "stdout"
        }
      ]
    },
    {
      "cell_type": "markdown",
      "metadata": {
        "id": "pW7IpHxMO6qp"
      },
      "source": [
        "Our first model accuracy using one-hot vectors is ~68%\n",
        "\n",
        "\n",
        "\n",
        "\n",
        "\n"
      ]
    },
    {
      "cell_type": "markdown",
      "metadata": {
        "id": "OwZk_yoWhPJB"
      },
      "source": [
        "### Plotting the accuracy graph"
      ]
    },
    {
      "cell_type": "code",
      "metadata": {
        "colab": {
          "base_uri": "https://localhost:8080/"
        },
        "id": "Yr4z7c85afjV",
        "outputId": "56c2df54-c0f6-4d13-9037-2f7d329376ea"
      },
      "source": [
        "pip install plot_keras_history"
      ],
      "execution_count": null,
      "outputs": [
        {
          "output_type": "stream",
          "text": [
            "Requirement already satisfied: plot_keras_history in /usr/local/lib/python3.7/dist-packages (1.1.27)\n",
            "Requirement already satisfied: scipy in /usr/local/lib/python3.7/dist-packages (from plot_keras_history) (1.4.1)\n",
            "Requirement already satisfied: matplotlib in /usr/local/lib/python3.7/dist-packages (from plot_keras_history) (3.2.2)\n",
            "Requirement already satisfied: pandas in /usr/local/lib/python3.7/dist-packages (from plot_keras_history) (1.1.5)\n",
            "Requirement already satisfied: sanitize-ml-labels in /usr/local/lib/python3.7/dist-packages (from plot_keras_history) (1.0.24)\n",
            "Requirement already satisfied: numpy>=1.13.3 in /usr/local/lib/python3.7/dist-packages (from scipy->plot_keras_history) (1.19.5)\n",
            "Requirement already satisfied: kiwisolver>=1.0.1 in /usr/local/lib/python3.7/dist-packages (from matplotlib->plot_keras_history) (1.3.1)\n",
            "Requirement already satisfied: pyparsing!=2.0.4,!=2.1.2,!=2.1.6,>=2.0.1 in /usr/local/lib/python3.7/dist-packages (from matplotlib->plot_keras_history) (2.4.7)\n",
            "Requirement already satisfied: cycler>=0.10 in /usr/local/lib/python3.7/dist-packages (from matplotlib->plot_keras_history) (0.10.0)\n",
            "Requirement already satisfied: python-dateutil>=2.1 in /usr/local/lib/python3.7/dist-packages (from matplotlib->plot_keras_history) (2.8.1)\n",
            "Requirement already satisfied: pytz>=2017.2 in /usr/local/lib/python3.7/dist-packages (from pandas->plot_keras_history) (2018.9)\n",
            "Requirement already satisfied: compress-json in /usr/local/lib/python3.7/dist-packages (from sanitize-ml-labels->plot_keras_history) (1.0.4)\n",
            "Requirement already satisfied: six in /usr/local/lib/python3.7/dist-packages (from cycler>=0.10->matplotlib->plot_keras_history) (1.15.0)\n"
          ],
          "name": "stdout"
        }
      ]
    },
    {
      "cell_type": "code",
      "metadata": {
        "colab": {
          "base_uri": "https://localhost:8080/",
          "height": 369
        },
        "id": "LS9k2vvSAqB7",
        "outputId": "27447a52-c89f-4fed-9a0c-b70677208241"
      },
      "source": [
        "# your code goes here\n",
        "from plot_keras_history import plot_history\n",
        "import matplotlib.pyplot as plt\n",
        "\n",
        "#plotting\n",
        "plot_history(history.history, path=\"standard.png\")\n",
        "plt.show()\n"
      ],
      "execution_count": null,
      "outputs": [
        {
          "output_type": "display_data",
          "data": {
            "image/png": "[encoded data removed]",
            "text/plain": [
              "<Figure size 720x360 with 2 Axes>"
            ]
          },
          "metadata": {
            "tags": [],
            "needs_background": "light"
          }
        }
      ]
    },
    {
      "cell_type": "markdown",
      "metadata": {
        "id": "a7OwOQw4h8RX"
      },
      "source": [
        "# **Model 2: Neural averaging network using embedding layer**"
      ]
    },
    {
      "cell_type": "code",
      "metadata": {
        "colab": {
          "base_uri": "https://localhost:8080/"
        },
        "id": "MFrCsL-NBFVL",
        "outputId": "ac3db28a-7a8a-42f6-8e49-9e925c967e47"
      },
      "source": [
        "# your code goes here\n",
        "\n",
        "#sequential library is used to add layer one by one\n",
        "model2 = Sequential()\n",
        "#first layer --> embedding layer\n",
        "model2.add(Embedding(VOCAB_SIZE, MAX_SEQUENCE_LENGTH))\n",
        "#second layer --> globalpooling layer\n",
        "model2.add(GlobalAveragePooling1DMasked())\n",
        "#third layer --> output layer\n",
        "model2.add(Dense(1, activation='sigmoid', name=\"output_layer\"))\n",
        "\n",
        "model2.summary()"
      ],
      "execution_count": null,
      "outputs": [
        {
          "output_type": "stream",
          "text": [
            "Model: \"sequential_1\"\n",
            "_________________________________________________________________\n",
            "Layer (type)                 Output Shape              Param #   \n",
            "=================================================================\n",
            "embedding (Embedding)        (None, None, 256)         2560000   \n",
            "_________________________________________________________________\n",
            "global_average_pooling1d_mas (None, 256)               0         \n",
            "_________________________________________________________________\n",
            "output_layer (Dense)         (None, 1)                 257       \n",
            "=================================================================\n",
            "Total params: 2,560,257\n",
            "Trainable params: 2,560,257\n",
            "Non-trainable params: 0\n",
            "_________________________________________________________________\n"
          ],
          "name": "stdout"
        }
      ]
    },
    {
      "cell_type": "code",
      "metadata": {
        "id": "WI8CS1H2Ts2T"
      },
      "source": [
        "#compiling the model\n",
        "model2.compile(optimizer='adam', loss='binary_crossentropy', metrics=['accuracy'])"
      ],
      "execution_count": null,
      "outputs": []
    },
    {
      "cell_type": "code",
      "metadata": {
        "colab": {
          "base_uri": "https://localhost:8080/"
        },
        "id": "zUeTr8fVcvbx",
        "outputId": "0016895d-ec5a-46cd-dde2-c7d654c8dfb5"
      },
      "source": [
        "#Training to monitor the model loss and accuracy on validation set\n",
        "history2 = model2.fit(partial_X_train,\n",
        "                    partial_y_train,\n",
        "                    epochs=40,\n",
        "                    batch_size=512,\n",
        "                    validation_data=(X_val, y_val),\n",
        "                    verbose=1)"
      ],
      "execution_count": null,
      "outputs": [
        {
          "output_type": "stream",
          "text": [
            "Epoch 1/40\n",
            "30/30 [==============================] - 3s 84ms/step - loss: 0.6906 - accuracy: 0.5406 - val_loss: 0.6804 - val_accuracy: 0.6954\n",
            "Epoch 2/40\n",
            "30/30 [==============================] - 2s 78ms/step - loss: 0.6741 - accuracy: 0.7213 - val_loss: 0.6570 - val_accuracy: 0.7305\n",
            "Epoch 3/40\n",
            "30/30 [==============================] - 2s 78ms/step - loss: 0.6444 - accuracy: 0.7470 - val_loss: 0.6224 - val_accuracy: 0.7484\n",
            "Epoch 4/40\n",
            "30/30 [==============================] - 2s 78ms/step - loss: 0.6053 - accuracy: 0.7665 - val_loss: 0.5830 - val_accuracy: 0.7649\n",
            "Epoch 5/40\n",
            "30/30 [==============================] - 2s 78ms/step - loss: 0.5606 - accuracy: 0.7875 - val_loss: 0.5396 - val_accuracy: 0.7935\n",
            "Epoch 6/40\n",
            "30/30 [==============================] - 2s 78ms/step - loss: 0.5115 - accuracy: 0.8175 - val_loss: 0.4988 - val_accuracy: 0.8137\n",
            "Epoch 7/40\n",
            "30/30 [==============================] - 2s 77ms/step - loss: 0.4692 - accuracy: 0.8365 - val_loss: 0.4636 - val_accuracy: 0.8301\n",
            "Epoch 8/40\n",
            "30/30 [==============================] - 2s 78ms/step - loss: 0.4355 - accuracy: 0.8538 - val_loss: 0.4341 - val_accuracy: 0.8420\n",
            "Epoch 9/40\n",
            "30/30 [==============================] - 2s 78ms/step - loss: 0.3975 - accuracy: 0.8700 - val_loss: 0.4102 - val_accuracy: 0.8480\n",
            "Epoch 10/40\n",
            "30/30 [==============================] - 2s 78ms/step - loss: 0.3720 - accuracy: 0.8725 - val_loss: 0.3896 - val_accuracy: 0.8561\n",
            "Epoch 11/40\n",
            "30/30 [==============================] - 2s 78ms/step - loss: 0.3518 - accuracy: 0.8783 - val_loss: 0.3733 - val_accuracy: 0.8609\n",
            "Epoch 12/40\n",
            "30/30 [==============================] - 2s 77ms/step - loss: 0.3275 - accuracy: 0.8888 - val_loss: 0.3591 - val_accuracy: 0.8646\n",
            "Epoch 13/40\n",
            "30/30 [==============================] - 2s 78ms/step - loss: 0.3076 - accuracy: 0.8962 - val_loss: 0.3478 - val_accuracy: 0.8681\n",
            "Epoch 14/40\n",
            "30/30 [==============================] - 2s 77ms/step - loss: 0.2970 - accuracy: 0.9029 - val_loss: 0.3382 - val_accuracy: 0.8710\n",
            "Epoch 15/40\n",
            "30/30 [==============================] - 2s 78ms/step - loss: 0.2817 - accuracy: 0.9048 - val_loss: 0.3304 - val_accuracy: 0.8719\n",
            "Epoch 16/40\n",
            "30/30 [==============================] - 2s 78ms/step - loss: 0.2706 - accuracy: 0.9082 - val_loss: 0.3226 - val_accuracy: 0.8760\n",
            "Epoch 17/40\n",
            "30/30 [==============================] - 2s 78ms/step - loss: 0.2539 - accuracy: 0.9142 - val_loss: 0.3163 - val_accuracy: 0.8777\n",
            "Epoch 18/40\n",
            "30/30 [==============================] - 2s 78ms/step - loss: 0.2471 - accuracy: 0.9176 - val_loss: 0.3110 - val_accuracy: 0.8777\n",
            "Epoch 19/40\n",
            "30/30 [==============================] - 2s 79ms/step - loss: 0.2362 - accuracy: 0.9213 - val_loss: 0.3065 - val_accuracy: 0.8797\n",
            "Epoch 20/40\n",
            "30/30 [==============================] - 2s 78ms/step - loss: 0.2285 - accuracy: 0.9260 - val_loss: 0.3031 - val_accuracy: 0.8816\n",
            "Epoch 21/40\n",
            "30/30 [==============================] - 2s 78ms/step - loss: 0.2198 - accuracy: 0.9267 - val_loss: 0.2993 - val_accuracy: 0.8823\n",
            "Epoch 22/40\n",
            "30/30 [==============================] - 2s 78ms/step - loss: 0.2074 - accuracy: 0.9341 - val_loss: 0.2963 - val_accuracy: 0.8824\n",
            "Epoch 23/40\n",
            "30/30 [==============================] - 2s 78ms/step - loss: 0.2064 - accuracy: 0.9320 - val_loss: 0.2942 - val_accuracy: 0.8823\n",
            "Epoch 24/40\n",
            "30/30 [==============================] - 2s 78ms/step - loss: 0.1966 - accuracy: 0.9401 - val_loss: 0.2937 - val_accuracy: 0.8818\n",
            "Epoch 25/40\n",
            "30/30 [==============================] - 2s 78ms/step - loss: 0.1877 - accuracy: 0.9430 - val_loss: 0.2905 - val_accuracy: 0.8838\n",
            "Epoch 26/40\n",
            "30/30 [==============================] - 2s 78ms/step - loss: 0.1863 - accuracy: 0.9440 - val_loss: 0.2893 - val_accuracy: 0.8839\n",
            "Epoch 27/40\n",
            "30/30 [==============================] - 2s 77ms/step - loss: 0.1750 - accuracy: 0.9490 - val_loss: 0.2889 - val_accuracy: 0.8826\n",
            "Epoch 28/40\n",
            "30/30 [==============================] - 2s 78ms/step - loss: 0.1737 - accuracy: 0.9490 - val_loss: 0.2874 - val_accuracy: 0.8852\n",
            "Epoch 29/40\n",
            "30/30 [==============================] - 2s 78ms/step - loss: 0.1627 - accuracy: 0.9532 - val_loss: 0.2875 - val_accuracy: 0.8827\n",
            "Epoch 30/40\n",
            "30/30 [==============================] - 2s 78ms/step - loss: 0.1600 - accuracy: 0.9540 - val_loss: 0.2869 - val_accuracy: 0.8840\n",
            "Epoch 31/40\n",
            "30/30 [==============================] - 2s 78ms/step - loss: 0.1573 - accuracy: 0.9556 - val_loss: 0.2866 - val_accuracy: 0.8859\n",
            "Epoch 32/40\n",
            "30/30 [==============================] - 2s 78ms/step - loss: 0.1482 - accuracy: 0.9588 - val_loss: 0.2869 - val_accuracy: 0.8851\n",
            "Epoch 33/40\n",
            "30/30 [==============================] - 2s 78ms/step - loss: 0.1438 - accuracy: 0.9611 - val_loss: 0.2872 - val_accuracy: 0.8838\n",
            "Epoch 34/40\n",
            "30/30 [==============================] - 2s 78ms/step - loss: 0.1433 - accuracy: 0.9622 - val_loss: 0.2882 - val_accuracy: 0.8861\n",
            "Epoch 35/40\n",
            "30/30 [==============================] - 2s 79ms/step - loss: 0.1388 - accuracy: 0.9632 - val_loss: 0.2897 - val_accuracy: 0.8841\n",
            "Epoch 36/40\n",
            "30/30 [==============================] - 2s 78ms/step - loss: 0.1319 - accuracy: 0.9657 - val_loss: 0.2892 - val_accuracy: 0.8845\n",
            "Epoch 37/40\n",
            "30/30 [==============================] - 2s 79ms/step - loss: 0.1276 - accuracy: 0.9674 - val_loss: 0.2910 - val_accuracy: 0.8842\n",
            "Epoch 38/40\n",
            "30/30 [==============================] - 2s 79ms/step - loss: 0.1265 - accuracy: 0.9669 - val_loss: 0.2918 - val_accuracy: 0.8862\n",
            "Epoch 39/40\n",
            "30/30 [==============================] - 2s 79ms/step - loss: 0.1222 - accuracy: 0.9664 - val_loss: 0.2940 - val_accuracy: 0.8819\n",
            "Epoch 40/40\n",
            "30/30 [==============================] - 2s 78ms/step - loss: 0.1188 - accuracy: 0.9678 - val_loss: 0.2937 - val_accuracy: 0.8850\n"
          ],
          "name": "stdout"
        }
      ]
    },
    {
      "cell_type": "code",
      "metadata": {
        "colab": {
          "base_uri": "https://localhost:8080/"
        },
        "id": "I4zIPJDcTPq3",
        "outputId": "6c445ebb-caee-4bc0-9aaf-32c30db97089"
      },
      "source": [
        "#evaluate on the test data\n",
        "results = model2.evaluate(X_test_enc, y_test)"
      ],
      "execution_count": null,
      "outputs": [
        {
          "output_type": "stream",
          "text": [
            "782/782 [==============================] - 2s 3ms/step - loss: 0.3107 - accuracy: 0.8737\n"
          ],
          "name": "stdout"
        }
      ]
    },
    {
      "cell_type": "code",
      "metadata": {
        "colab": {
          "base_uri": "https://localhost:8080/"
        },
        "id": "waS96edDTRyL",
        "outputId": "65722394-e8ae-447f-fc8b-e28909f11c3b"
      },
      "source": [
        "#loss, accuracy\n",
        "print (results)"
      ],
      "execution_count": null,
      "outputs": [
        {
          "output_type": "stream",
          "text": [
            "[0.3106572926044464, 0.8737199902534485]\n"
          ],
          "name": "stdout"
        }
      ]
    },
    {
      "cell_type": "code",
      "metadata": {
        "colab": {
          "base_uri": "https://localhost:8080/",
          "height": 369
        },
        "id": "9g70ZpJUftWj",
        "outputId": "c10c73b1-57f0-4840-8451-2d1bd92a14c8"
      },
      "source": [
        "#plotting\n",
        "plot_history(history2.history, path=\"standard.png\")\n",
        "plt.show()"
      ],
      "execution_count": null,
      "outputs": [
        {
          "output_type": "display_data",
          "data": {
            "image/png": "[encoded data removed]",
            "text/plain": [
              "<Figure size 720x360 with 2 Axes>"
            ]
          },
          "metadata": {
            "tags": [],
            "needs_background": "light"
          }
        }
      ]
    },
    {
      "cell_type": "markdown",
      "metadata": {
        "id": "7FBpTc_rXGvQ"
      },
      "source": [
        "The accuracy of model2 is 87%. Using Embedding layer instead of one-hot layer improved the performance."
      ]
    },
    {
      "cell_type": "markdown",
      "metadata": {
        "id": "--020hfG6rN2"
      },
      "source": [
        "# **Model 3: Using pre-trained word embeddings**"
      ]
    },
    {
      "cell_type": "markdown",
      "metadata": {
        "id": "7GdY2-64YG1B"
      },
      "source": [
        "### Preparing pre-trained word embeddings (GLOVE)"
      ]
    },
    {
      "cell_type": "code",
      "metadata": {
        "id": "f_PypdqG9Iis"
      },
      "source": [
        "def readGloveFile(gloveFile):\n",
        "    with open(gloveFile, 'r') as f:\n",
        "        wordToGlove = {}  \n",
        "        wordToIndex = {}  \n",
        "        indexToWord = {}  \n",
        "\n",
        "        for line in f:\n",
        "            record = line.strip().split()\n",
        "            token = record[0] \n",
        "            wordToGlove[token] = np.array(record[1:], dtype=np.float64) \n",
        "            \n",
        "        tokens = sorted(wordToGlove.keys())\n",
        "        for idx, tok in enumerate(tokens):\n",
        "            kerasIdx = idx + 1  \n",
        "            wordToIndex[tok] = kerasIdx \n",
        "            indexToWord[kerasIdx] = tok \n",
        "\n",
        "    return wordToIndex, indexToWord, wordToGlove"
      ],
      "execution_count": null,
      "outputs": []
    },
    {
      "cell_type": "markdown",
      "metadata": {
        "id": "ZcIZ3dq59bCh"
      },
      "source": [
        "Now, we create our pre-trained Embedding layer:"
      ]
    },
    {
      "cell_type": "code",
      "metadata": {
        "id": "gembn7VM3ex8"
      },
      "source": [
        "from keras.initializers import Constant\n",
        "\n",
        "def createPretrainedEmbeddingLayer(wordToGlove, wordToIndex, isTrainable):\n",
        "    vocabLen = len(wordToIndex) + 1  \n",
        "    embDim = next(iter(wordToGlove.values())).shape[0]  \n",
        "   \n",
        "    embeddingMatrix = np.zeros((vocabLen, embDim))  \n",
        "    for word, index in wordToIndex.items():\n",
        "        embeddingMatrix[index, :] = wordToGlove[word] \n",
        "\n",
        "    embeddingLayer = Embedding(vocabLen, embDim, embeddings_initializer=Constant(embeddingMatrix), trainable=isTrainable, name='GloVe_Embeddings')\n",
        "    return embeddingLayer"
      ],
      "execution_count": null,
      "outputs": []
    },
    {
      "cell_type": "code",
      "metadata": {
        "colab": {
          "base_uri": "https://localhost:8080/"
        },
        "id": "8OC1wuctdFvA",
        "outputId": "bdcfffdc-fa61-41da-8ab8-90743a3c6b0f"
      },
      "source": [
        "!wget http://nlp.stanford.edu/data/glove.6B.zip\n",
        "!unzip /content/glove.6B.zip"
      ],
      "execution_count": null,
      "outputs": [
        {
          "output_type": "stream",
          "text": [
            "--2021-03-01 21:56:43--  http://nlp.stanford.edu/data/glove.6B.zip\n",
            "Resolving nlp.stanford.edu (nlp.stanford.edu)... 171.64.67.140\n",
            "Connecting to nlp.stanford.edu (nlp.stanford.edu)|171.64.67.140|:80... connected.\n",
            "HTTP request sent, awaiting response... 302 Found\n",
            "Location: https://nlp.stanford.edu/data/glove.6B.zip [following]\n",
            "--2021-03-01 21:56:43--  https://nlp.stanford.edu/data/glove.6B.zip\n",
            "Connecting to nlp.stanford.edu (nlp.stanford.edu)|171.64.67.140|:443... connected.\n",
            "HTTP request sent, awaiting response... 301 Moved Permanently\n",
            "Location: http://downloads.cs.stanford.edu/nlp/data/glove.6B.zip [following]\n",
            "--2021-03-01 21:56:44--  http://downloads.cs.stanford.edu/nlp/data/glove.6B.zip\n",
            "Resolving downloads.cs.stanford.edu (downloads.cs.stanford.edu)... 171.64.64.22\n",
            "Connecting to downloads.cs.stanford.edu (downloads.cs.stanford.edu)|171.64.64.22|:80... connected.\n",
            "HTTP request sent, awaiting response... 200 OK\n",
            "Length: 862182613 (822M) [application/zip]\n",
            "Saving to: ‘glove.6B.zip’\n",
            "\n",
            "glove.6B.zip        100%[===================>] 822.24M  2.04MB/s    in 8m 42s  \n",
            "\n",
            "2021-03-01 22:05:26 (1.58 MB/s) - ‘glove.6B.zip’ saved [862182613/862182613]\n",
            "\n",
            "Archive:  /content/glove.6B.zip\n",
            "  inflating: glove.6B.50d.txt        \n",
            "  inflating: glove.6B.100d.txt       \n",
            "  inflating: glove.6B.200d.txt       \n",
            "  inflating: glove.6B.300d.txt       \n"
          ],
          "name": "stdout"
        }
      ]
    },
    {
      "cell_type": "markdown",
      "metadata": {
        "id": "HGxciLK4-xOr"
      },
      "source": [
        "We freeze the weights. To create the model: "
      ]
    },
    {
      "cell_type": "code",
      "metadata": {
        "colab": {
          "base_uri": "https://localhost:8080/"
        },
        "id": "PZCPUM0W_Drc",
        "outputId": "9fc176ca-ebfd-4247-af74-66c6a8974bff"
      },
      "source": [
        "#wordToIndex,indexToWord,wordToGlove=readGloveFile('/content/glove.6B.50d.txt')\n",
        "#wordToIndex,indexToWord,wordToGlove=readGloveFile('/content/glove.6B.100d.txt')\n",
        "wordToIndex,indexToWord,wordToGlove=readGloveFile('/content/glove.6B.300d.txt')\n",
        "\n",
        "#vocabLen = len(wordToIndex) + 1 \n",
        "\n",
        "EMBED_SIZE = next(iter(wordToGlove.values())).shape[0]\n",
        "print('Size of Embedding: ',EMBED_SIZE)\n",
        "\n",
        "embeddingLayer=createPretrainedEmbeddingLayer(wordToGlove,wordToIndex,isTrainable=False)"
      ],
      "execution_count": null,
      "outputs": [
        {
          "output_type": "stream",
          "text": [
            "Size of Embedding:  300\n"
          ],
          "name": "stdout"
        }
      ]
    },
    {
      "cell_type": "markdown",
      "metadata": {
        "id": "vdZ4nl08vp9A"
      },
      "source": [
        "## **Model 3-1: Neural bag of words using pre-trained word embeddings**"
      ]
    },
    {
      "cell_type": "code",
      "metadata": {
        "id": "VICS9rY8C7KH",
        "colab": {
          "base_uri": "https://localhost:8080/"
        },
        "outputId": "1f93b911-cb24-4824-944b-757c2d8e2135"
      },
      "source": [
        "#Now we change our model to use GloVe\n",
        "# Inspect model performance with 1 hidden layer, pre-trained embeddings\n",
        "# your code goes here\n",
        "hidden_layer= 16\n",
        "\n",
        "#sequential library is used to add layer one by one\n",
        "model3a = Sequential()\n",
        "#first layer --> pre-trained embedding layer\n",
        "model3a.add(createPretrainedEmbeddingLayer(wordToGlove,wordToIndex,isTrainable=False))\n",
        "#second layer --> globalpooling layer\n",
        "model3a.add(GlobalAveragePooling1DMasked())\n",
        "#third layer --> dense layer with 16 hidden layer\n",
        "model3a.add(Dense(hidden_layer, activation='sigmoid', name=\"hidden_layer\"))\n",
        "#fourth layer --> output layer\n",
        "model3a.add(Dense(1, activation='sigmoid'))\n",
        "\n",
        "model3a.summary()"
      ],
      "execution_count": null,
      "outputs": [
        {
          "output_type": "stream",
          "text": [
            "Model: \"sequential_2\"\n",
            "_________________________________________________________________\n",
            "Layer (type)                 Output Shape              Param #   \n",
            "=================================================================\n",
            "GloVe_Embeddings (Embedding) (None, None, 300)         120000300 \n",
            "_________________________________________________________________\n",
            "global_average_pooling1d_mas (None, 300)               0         \n",
            "_________________________________________________________________\n",
            "hidden_layer (Dense)         (None, 16)                4816      \n",
            "_________________________________________________________________\n",
            "dense (Dense)                (None, 1)                 17        \n",
            "=================================================================\n",
            "Total params: 120,005,133\n",
            "Trainable params: 4,833\n",
            "Non-trainable params: 120,000,300\n",
            "_________________________________________________________________\n"
          ],
          "name": "stdout"
        }
      ]
    },
    {
      "cell_type": "code",
      "metadata": {
        "id": "r6sj_FnOD9Sb"
      },
      "source": [
        "#Train and test the model\n",
        "#compile the model\n",
        "model3a.compile(optimizer='adam', loss='binary_crossentropy', metrics=['accuracy'])"
      ],
      "execution_count": null,
      "outputs": []
    },
    {
      "cell_type": "code",
      "metadata": {
        "colab": {
          "base_uri": "https://localhost:8080/"
        },
        "id": "aJ7x4zIesaf0",
        "outputId": "4472ac86-1559-4aac-fa7a-06d069d03f1a"
      },
      "source": [
        "#Training to monitor the model loss and accuracy on validation set\n",
        "history3a = model3a.fit(partial_X_train,\n",
        "                    partial_y_train,\n",
        "                    epochs=40,\n",
        "                    batch_size=512,\n",
        "                    validation_data=(X_val, y_val),\n",
        "                    verbose=1)"
      ],
      "execution_count": null,
      "outputs": [
        {
          "output_type": "stream",
          "text": [
            "Epoch 1/40\n",
            "30/30 [==============================] - 2s 44ms/step - loss: 0.6961 - accuracy: 0.5038 - val_loss: 0.6914 - val_accuracy: 0.5246\n",
            "Epoch 2/40\n",
            "30/30 [==============================] - 1s 41ms/step - loss: 0.6894 - accuracy: 0.5345 - val_loss: 0.6865 - val_accuracy: 0.5622\n",
            "Epoch 3/40\n",
            "30/30 [==============================] - 1s 41ms/step - loss: 0.6851 - accuracy: 0.5712 - val_loss: 0.6844 - val_accuracy: 0.5490\n",
            "Epoch 4/40\n",
            "30/30 [==============================] - 1s 41ms/step - loss: 0.6817 - accuracy: 0.5623 - val_loss: 0.6805 - val_accuracy: 0.5811\n",
            "Epoch 5/40\n",
            "30/30 [==============================] - 1s 41ms/step - loss: 0.6783 - accuracy: 0.5929 - val_loss: 0.6777 - val_accuracy: 0.5948\n",
            "Epoch 6/40\n",
            "30/30 [==============================] - 1s 41ms/step - loss: 0.6764 - accuracy: 0.5960 - val_loss: 0.6753 - val_accuracy: 0.5961\n",
            "Epoch 7/40\n",
            "30/30 [==============================] - 1s 41ms/step - loss: 0.6744 - accuracy: 0.5910 - val_loss: 0.6730 - val_accuracy: 0.5948\n",
            "Epoch 8/40\n",
            "30/30 [==============================] - 1s 41ms/step - loss: 0.6709 - accuracy: 0.6023 - val_loss: 0.6707 - val_accuracy: 0.6008\n",
            "Epoch 9/40\n",
            "30/30 [==============================] - 1s 41ms/step - loss: 0.6691 - accuracy: 0.6119 - val_loss: 0.6684 - val_accuracy: 0.6091\n",
            "Epoch 10/40\n",
            "30/30 [==============================] - 1s 41ms/step - loss: 0.6657 - accuracy: 0.6153 - val_loss: 0.6662 - val_accuracy: 0.6105\n",
            "Epoch 11/40\n",
            "30/30 [==============================] - 1s 41ms/step - loss: 0.6632 - accuracy: 0.6283 - val_loss: 0.6642 - val_accuracy: 0.6132\n",
            "Epoch 12/40\n",
            "30/30 [==============================] - 1s 41ms/step - loss: 0.6614 - accuracy: 0.6211 - val_loss: 0.6621 - val_accuracy: 0.6172\n",
            "Epoch 13/40\n",
            "30/30 [==============================] - 1s 41ms/step - loss: 0.6593 - accuracy: 0.6263 - val_loss: 0.6604 - val_accuracy: 0.6215\n",
            "Epoch 14/40\n",
            "30/30 [==============================] - 1s 41ms/step - loss: 0.6595 - accuracy: 0.6243 - val_loss: 0.6579 - val_accuracy: 0.6236\n",
            "Epoch 15/40\n",
            "30/30 [==============================] - 1s 41ms/step - loss: 0.6542 - accuracy: 0.6348 - val_loss: 0.6559 - val_accuracy: 0.6267\n",
            "Epoch 16/40\n",
            "30/30 [==============================] - 1s 41ms/step - loss: 0.6522 - accuracy: 0.6410 - val_loss: 0.6542 - val_accuracy: 0.6313\n",
            "Epoch 17/40\n",
            "30/30 [==============================] - 1s 41ms/step - loss: 0.6520 - accuracy: 0.6340 - val_loss: 0.6532 - val_accuracy: 0.6325\n",
            "Epoch 18/40\n",
            "30/30 [==============================] - 1s 41ms/step - loss: 0.6510 - accuracy: 0.6340 - val_loss: 0.6498 - val_accuracy: 0.6382\n",
            "Epoch 19/40\n",
            "30/30 [==============================] - 1s 41ms/step - loss: 0.6458 - accuracy: 0.6468 - val_loss: 0.6476 - val_accuracy: 0.6383\n",
            "Epoch 20/40\n",
            "30/30 [==============================] - 1s 41ms/step - loss: 0.6440 - accuracy: 0.6531 - val_loss: 0.6480 - val_accuracy: 0.6393\n",
            "Epoch 21/40\n",
            "30/30 [==============================] - 1s 41ms/step - loss: 0.6415 - accuracy: 0.6524 - val_loss: 0.6438 - val_accuracy: 0.6458\n",
            "Epoch 22/40\n",
            "30/30 [==============================] - 1s 41ms/step - loss: 0.6415 - accuracy: 0.6527 - val_loss: 0.6431 - val_accuracy: 0.6469\n",
            "Epoch 23/40\n",
            "30/30 [==============================] - 1s 41ms/step - loss: 0.6386 - accuracy: 0.6522 - val_loss: 0.6397 - val_accuracy: 0.6504\n",
            "Epoch 24/40\n",
            "30/30 [==============================] - 1s 42ms/step - loss: 0.6361 - accuracy: 0.6592 - val_loss: 0.6373 - val_accuracy: 0.6519\n",
            "Epoch 25/40\n",
            "30/30 [==============================] - 1s 41ms/step - loss: 0.6331 - accuracy: 0.6681 - val_loss: 0.6356 - val_accuracy: 0.6567\n",
            "Epoch 26/40\n",
            "30/30 [==============================] - 1s 41ms/step - loss: 0.6330 - accuracy: 0.6622 - val_loss: 0.6335 - val_accuracy: 0.6597\n",
            "Epoch 27/40\n",
            "30/30 [==============================] - 1s 41ms/step - loss: 0.6297 - accuracy: 0.6664 - val_loss: 0.6315 - val_accuracy: 0.6601\n",
            "Epoch 28/40\n",
            "30/30 [==============================] - 1s 41ms/step - loss: 0.6277 - accuracy: 0.6738 - val_loss: 0.6305 - val_accuracy: 0.6610\n",
            "Epoch 29/40\n",
            "30/30 [==============================] - 1s 41ms/step - loss: 0.6245 - accuracy: 0.6709 - val_loss: 0.6275 - val_accuracy: 0.6646\n",
            "Epoch 30/40\n",
            "30/30 [==============================] - 1s 41ms/step - loss: 0.6218 - accuracy: 0.6753 - val_loss: 0.6257 - val_accuracy: 0.6681\n",
            "Epoch 31/40\n",
            "30/30 [==============================] - 1s 41ms/step - loss: 0.6221 - accuracy: 0.6775 - val_loss: 0.6245 - val_accuracy: 0.6674\n",
            "Epoch 32/40\n",
            "30/30 [==============================] - 1s 41ms/step - loss: 0.6165 - accuracy: 0.6830 - val_loss: 0.6222 - val_accuracy: 0.6717\n",
            "Epoch 33/40\n",
            "30/30 [==============================] - 1s 41ms/step - loss: 0.6192 - accuracy: 0.6769 - val_loss: 0.6208 - val_accuracy: 0.6704\n",
            "Epoch 34/40\n",
            "30/30 [==============================] - 1s 41ms/step - loss: 0.6129 - accuracy: 0.6873 - val_loss: 0.6198 - val_accuracy: 0.6706\n",
            "Epoch 35/40\n",
            "30/30 [==============================] - 1s 41ms/step - loss: 0.6147 - accuracy: 0.6742 - val_loss: 0.6179 - val_accuracy: 0.6726\n",
            "Epoch 36/40\n",
            "30/30 [==============================] - 1s 41ms/step - loss: 0.6110 - accuracy: 0.6818 - val_loss: 0.6153 - val_accuracy: 0.6763\n",
            "Epoch 37/40\n",
            "30/30 [==============================] - 1s 41ms/step - loss: 0.6102 - accuracy: 0.6856 - val_loss: 0.6137 - val_accuracy: 0.6775\n",
            "Epoch 38/40\n",
            "30/30 [==============================] - 1s 41ms/step - loss: 0.6071 - accuracy: 0.6844 - val_loss: 0.6131 - val_accuracy: 0.6755\n",
            "Epoch 39/40\n",
            "30/30 [==============================] - 1s 41ms/step - loss: 0.6087 - accuracy: 0.6873 - val_loss: 0.6106 - val_accuracy: 0.6810\n",
            "Epoch 40/40\n",
            "30/30 [==============================] - 1s 41ms/step - loss: 0.6037 - accuracy: 0.6883 - val_loss: 0.6095 - val_accuracy: 0.6805\n"
          ],
          "name": "stdout"
        }
      ]
    },
    {
      "cell_type": "code",
      "metadata": {
        "colab": {
          "base_uri": "https://localhost:8080/"
        },
        "id": "QfgZocFUsa2V",
        "outputId": "84b284cf-7708-442b-c068-bd63d75f5d7d"
      },
      "source": [
        "#evaluate on test data\n",
        "results = model3a.evaluate(X_test_enc, y_test)"
      ],
      "execution_count": null,
      "outputs": [
        {
          "output_type": "stream",
          "text": [
            "782/782 [==============================] - 2s 3ms/step - loss: 0.6095 - accuracy: 0.6797\n"
          ],
          "name": "stdout"
        }
      ]
    },
    {
      "cell_type": "code",
      "metadata": {
        "colab": {
          "base_uri": "https://localhost:8080/"
        },
        "id": "G5kBYsihsbGL",
        "outputId": "0ec5dafe-2e08-4579-ed90-245affb9e8fc"
      },
      "source": [
        "#loss, accuracy\n",
        "print(results)"
      ],
      "execution_count": null,
      "outputs": [
        {
          "output_type": "stream",
          "text": [
            "[0.6094802618026733, 0.6796799898147583]\n"
          ],
          "name": "stdout"
        }
      ]
    },
    {
      "cell_type": "code",
      "metadata": {
        "colab": {
          "base_uri": "https://localhost:8080/",
          "height": 369
        },
        "id": "cOG7Mcczs4z1",
        "outputId": "9f8889d6-c056-4a8a-a07b-9763c2df0116"
      },
      "source": [
        "#plot\n",
        "plot_history(history3a.history, path=\"standard.png\")\n",
        "plt.show()"
      ],
      "execution_count": null,
      "outputs": [
        {
          "output_type": "display_data",
          "data": {
            "image/png": "[encoded data removed]",
            "text/plain": [
              "<Figure size 720x360 with 2 Axes>"
            ]
          },
          "metadata": {
            "tags": [],
            "needs_background": "light"
          }
        }
      ]
    },
    {
      "cell_type": "markdown",
      "metadata": {
        "id": "8jVDWhu7bSjJ"
      },
      "source": [
        "#**fine-tune the weights in pretrained layer**"
      ]
    },
    {
      "cell_type": "code",
      "metadata": {
        "colab": {
          "base_uri": "https://localhost:8080/"
        },
        "id": "u_xmeuuhhtbH",
        "outputId": "e1aa5baa-a787-440c-8e25-10ed8021379e"
      },
      "source": [
        "# your code goes here\n",
        "#To compare freezing and fine-tuning the pre-train embedding weights, we fine-tune the weights here\n",
        "#so that, in pretrained layer train data is changed to true\n",
        "hidden_layer= 16\n",
        "\n",
        "#sequential library is used to add layer one by one\n",
        "model3b = Sequential()\n",
        "#first layer --> pre-trained embedding layer\n",
        "model3b.add(createPretrainedEmbeddingLayer(wordToGlove,wordToIndex,isTrainable=True))\n",
        "#second layer --> globalpooling layer\n",
        "model3b.add(GlobalAveragePooling1DMasked())\n",
        "#third layer --> dense layer with hidden layer\n",
        "model3b.add(Dense(hidden_layer, activation='sigmoid', name=\"hidden_layer\"))\n",
        "#fourth layer --> output layer\n",
        "model3b.add(Dense(1, activation='sigmoid', name=\"output_layer\"))\n",
        "\n",
        "model3b.summary()"
      ],
      "execution_count": null,
      "outputs": [
        {
          "output_type": "stream",
          "text": [
            "Model: \"sequential_3\"\n",
            "_________________________________________________________________\n",
            "Layer (type)                 Output Shape              Param #   \n",
            "=================================================================\n",
            "GloVe_Embeddings (Embedding) (None, None, 300)         120000300 \n",
            "_________________________________________________________________\n",
            "global_average_pooling1d_mas (None, 300)               0         \n",
            "_________________________________________________________________\n",
            "hidden_layer (Dense)         (None, 16)                4816      \n",
            "_________________________________________________________________\n",
            "output_layer (Dense)         (None, 1)                 17        \n",
            "=================================================================\n",
            "Total params: 120,005,133\n",
            "Trainable params: 120,005,133\n",
            "Non-trainable params: 0\n",
            "_________________________________________________________________\n"
          ],
          "name": "stdout"
        }
      ]
    },
    {
      "cell_type": "code",
      "metadata": {
        "id": "3rz8MEm6iHj6"
      },
      "source": [
        "# Train and test the model\n",
        "#compiling the model\n",
        "model3b.compile(optimizer='adam', loss='binary_crossentropy', metrics=['accuracy'])"
      ],
      "execution_count": null,
      "outputs": []
    },
    {
      "cell_type": "code",
      "metadata": {
        "colab": {
          "base_uri": "https://localhost:8080/"
        },
        "id": "ZnOvk_y2xs28",
        "outputId": "01b460b2-799b-4a5c-e494-680c8573654d"
      },
      "source": [
        "#Training to monitor the model loss and accuracy on validation set\n",
        "history3b = model3b.fit(partial_X_train,\n",
        "                    partial_y_train,\n",
        "                    epochs=40,\n",
        "                    batch_size=512,\n",
        "                    validation_data=(X_val, y_val),\n",
        "                    verbose=1)"
      ],
      "execution_count": null,
      "outputs": [
        {
          "output_type": "stream",
          "text": [
            "Epoch 1/40\n",
            "30/30 [==============================] - 21s 651ms/step - loss: 0.6912 - accuracy: 0.5347 - val_loss: 0.6846 - val_accuracy: 0.6095\n",
            "Epoch 2/40\n",
            "30/30 [==============================] - 19s 622ms/step - loss: 0.6808 - accuracy: 0.6286 - val_loss: 0.6712 - val_accuracy: 0.6362\n",
            "Epoch 3/40\n",
            "30/30 [==============================] - 19s 618ms/step - loss: 0.6640 - accuracy: 0.6554 - val_loss: 0.6471 - val_accuracy: 0.6656\n",
            "Epoch 4/40\n",
            "30/30 [==============================] - 18s 616ms/step - loss: 0.6349 - accuracy: 0.6902 - val_loss: 0.6113 - val_accuracy: 0.7084\n",
            "Epoch 5/40\n",
            "30/30 [==============================] - 19s 619ms/step - loss: 0.5957 - accuracy: 0.7294 - val_loss: 0.5670 - val_accuracy: 0.7557\n",
            "Epoch 6/40\n",
            "30/30 [==============================] - 19s 620ms/step - loss: 0.5447 - accuracy: 0.7736 - val_loss: 0.5156 - val_accuracy: 0.7924\n",
            "Epoch 7/40\n",
            "30/30 [==============================] - 18s 616ms/step - loss: 0.4878 - accuracy: 0.8130 - val_loss: 0.4662 - val_accuracy: 0.8198\n",
            "Epoch 8/40\n",
            "30/30 [==============================] - 18s 616ms/step - loss: 0.4360 - accuracy: 0.8384 - val_loss: 0.4243 - val_accuracy: 0.8322\n",
            "Epoch 9/40\n",
            "30/30 [==============================] - 19s 623ms/step - loss: 0.3865 - accuracy: 0.8613 - val_loss: 0.3911 - val_accuracy: 0.8462\n",
            "Epoch 10/40\n",
            "30/30 [==============================] - 18s 615ms/step - loss: 0.3469 - accuracy: 0.8778 - val_loss: 0.3665 - val_accuracy: 0.8560\n",
            "Epoch 11/40\n",
            "30/30 [==============================] - 19s 618ms/step - loss: 0.3239 - accuracy: 0.8848 - val_loss: 0.3480 - val_accuracy: 0.8637\n",
            "Epoch 12/40\n",
            "30/30 [==============================] - 19s 619ms/step - loss: 0.2987 - accuracy: 0.8926 - val_loss: 0.3337 - val_accuracy: 0.8677\n",
            "Epoch 13/40\n",
            "30/30 [==============================] - 19s 620ms/step - loss: 0.2752 - accuracy: 0.9044 - val_loss: 0.3205 - val_accuracy: 0.8728\n",
            "Epoch 14/40\n",
            "30/30 [==============================] - 19s 621ms/step - loss: 0.2600 - accuracy: 0.9064 - val_loss: 0.3115 - val_accuracy: 0.8754\n",
            "Epoch 15/40\n",
            "30/30 [==============================] - 19s 620ms/step - loss: 0.2352 - accuracy: 0.9163 - val_loss: 0.3041 - val_accuracy: 0.8786\n",
            "Epoch 16/40\n",
            "30/30 [==============================] - 19s 621ms/step - loss: 0.2225 - accuracy: 0.9220 - val_loss: 0.2984 - val_accuracy: 0.8808\n",
            "Epoch 17/40\n",
            "30/30 [==============================] - 19s 620ms/step - loss: 0.2081 - accuracy: 0.9298 - val_loss: 0.2946 - val_accuracy: 0.8822\n",
            "Epoch 18/40\n",
            "30/30 [==============================] - 19s 618ms/step - loss: 0.1977 - accuracy: 0.9336 - val_loss: 0.2931 - val_accuracy: 0.8815\n",
            "Epoch 19/40\n",
            "30/30 [==============================] - 19s 621ms/step - loss: 0.1871 - accuracy: 0.9366 - val_loss: 0.2895 - val_accuracy: 0.8819\n",
            "Epoch 20/40\n",
            "30/30 [==============================] - 19s 621ms/step - loss: 0.1779 - accuracy: 0.9418 - val_loss: 0.2875 - val_accuracy: 0.8838\n",
            "Epoch 21/40\n",
            "30/30 [==============================] - 18s 617ms/step - loss: 0.1664 - accuracy: 0.9481 - val_loss: 0.2866 - val_accuracy: 0.8837\n",
            "Epoch 22/40\n",
            "30/30 [==============================] - 19s 619ms/step - loss: 0.1536 - accuracy: 0.9537 - val_loss: 0.2870 - val_accuracy: 0.8856\n",
            "Epoch 23/40\n",
            "30/30 [==============================] - 19s 619ms/step - loss: 0.1456 - accuracy: 0.9570 - val_loss: 0.2877 - val_accuracy: 0.8850\n",
            "Epoch 24/40\n",
            "30/30 [==============================] - 19s 622ms/step - loss: 0.1386 - accuracy: 0.9606 - val_loss: 0.2892 - val_accuracy: 0.8852\n",
            "Epoch 25/40\n",
            "30/30 [==============================] - 19s 620ms/step - loss: 0.1322 - accuracy: 0.9629 - val_loss: 0.2908 - val_accuracy: 0.8839\n",
            "Epoch 26/40\n",
            "30/30 [==============================] - 18s 616ms/step - loss: 0.1263 - accuracy: 0.9653 - val_loss: 0.2929 - val_accuracy: 0.8847\n",
            "Epoch 27/40\n",
            "30/30 [==============================] - 19s 619ms/step - loss: 0.1184 - accuracy: 0.9685 - val_loss: 0.2962 - val_accuracy: 0.8853\n",
            "Epoch 28/40\n",
            "30/30 [==============================] - 19s 624ms/step - loss: 0.1119 - accuracy: 0.9693 - val_loss: 0.2992 - val_accuracy: 0.8821\n",
            "Epoch 29/40\n",
            "30/30 [==============================] - 19s 622ms/step - loss: 0.1088 - accuracy: 0.9708 - val_loss: 0.3020 - val_accuracy: 0.8816\n",
            "Epoch 30/40\n",
            "30/30 [==============================] - 19s 617ms/step - loss: 0.0967 - accuracy: 0.9760 - val_loss: 0.3056 - val_accuracy: 0.8809\n",
            "Epoch 31/40\n",
            "30/30 [==============================] - 19s 617ms/step - loss: 0.0956 - accuracy: 0.9752 - val_loss: 0.3096 - val_accuracy: 0.8801\n",
            "Epoch 32/40\n",
            "30/30 [==============================] - 19s 622ms/step - loss: 0.0927 - accuracy: 0.9776 - val_loss: 0.3149 - val_accuracy: 0.8789\n",
            "Epoch 33/40\n",
            "30/30 [==============================] - 19s 619ms/step - loss: 0.0871 - accuracy: 0.9793 - val_loss: 0.3188 - val_accuracy: 0.8786\n",
            "Epoch 34/40\n",
            "30/30 [==============================] - 18s 615ms/step - loss: 0.0800 - accuracy: 0.9837 - val_loss: 0.3229 - val_accuracy: 0.8779\n",
            "Epoch 35/40\n",
            "30/30 [==============================] - 19s 621ms/step - loss: 0.0799 - accuracy: 0.9831 - val_loss: 0.3285 - val_accuracy: 0.8772\n",
            "Epoch 36/40\n",
            "30/30 [==============================] - 18s 617ms/step - loss: 0.0731 - accuracy: 0.9843 - val_loss: 0.3340 - val_accuracy: 0.8772\n",
            "Epoch 37/40\n",
            "30/30 [==============================] - 19s 623ms/step - loss: 0.0674 - accuracy: 0.9868 - val_loss: 0.3382 - val_accuracy: 0.8762\n",
            "Epoch 38/40\n",
            "30/30 [==============================] - 19s 619ms/step - loss: 0.0656 - accuracy: 0.9879 - val_loss: 0.3445 - val_accuracy: 0.8760\n",
            "Epoch 39/40\n",
            "30/30 [==============================] - 18s 616ms/step - loss: 0.0617 - accuracy: 0.9872 - val_loss: 0.3530 - val_accuracy: 0.8746\n",
            "Epoch 40/40\n",
            "30/30 [==============================] - 18s 616ms/step - loss: 0.0584 - accuracy: 0.9891 - val_loss: 0.3547 - val_accuracy: 0.8756\n"
          ],
          "name": "stdout"
        }
      ]
    },
    {
      "cell_type": "code",
      "metadata": {
        "colab": {
          "base_uri": "https://localhost:8080/"
        },
        "id": "B11YHzeWxtD0",
        "outputId": "72d044c4-abde-447f-ef16-870c163864af"
      },
      "source": [
        "#evaluate on test data\n",
        "results = model3b.evaluate(X_test_enc, y_test)"
      ],
      "execution_count": null,
      "outputs": [
        {
          "output_type": "stream",
          "text": [
            "782/782 [==============================] - 2s 3ms/step - loss: 0.3798 - accuracy: 0.8650\n"
          ],
          "name": "stdout"
        }
      ]
    },
    {
      "cell_type": "code",
      "metadata": {
        "colab": {
          "base_uri": "https://localhost:8080/"
        },
        "id": "p1PvWq-k1C58",
        "outputId": "30e0adc6-9af6-421d-bc7c-7b42f1ebe1b4"
      },
      "source": [
        "#loss, accuracy\n",
        "print(results)"
      ],
      "execution_count": null,
      "outputs": [
        {
          "output_type": "stream",
          "text": [
            "[0.37979957461357117, 0.8649600148200989]\n"
          ],
          "name": "stdout"
        }
      ]
    },
    {
      "cell_type": "code",
      "metadata": {
        "colab": {
          "base_uri": "https://localhost:8080/",
          "height": 369
        },
        "id": "smYLGiYP1DGw",
        "outputId": "5e949e65-0a99-4209-be96-369a43910e92"
      },
      "source": [
        "#plot\n",
        "plot_history(history3b.history, path=\"standard.png\")\n",
        "plt.show()"
      ],
      "execution_count": null,
      "outputs": [
        {
          "output_type": "display_data",
          "data": {
            "image/png": "[encoded data removed]",
            "text/plain": [
              "<Figure size 720x360 with 2 Axes>"
            ]
          },
          "metadata": {
            "tags": [],
            "needs_background": "light"
          }
        }
      ]
    },
    {
      "cell_type": "markdown",
      "metadata": {
        "id": "cAdOh2IHnKuT"
      },
      "source": [
        "• fine-tuning the pre-trained embeddings would obtain better accuracy."
      ]
    },
    {
      "cell_type": "markdown",
      "metadata": {
        "id": "xZ1KWFKvcagS"
      },
      "source": [
        "##  **Model 3-2: LSTM with pre-trained word embeddings**"
      ]
    },
    {
      "cell_type": "code",
      "metadata": {
        "id": "oz92rv2iTbo8",
        "colab": {
          "base_uri": "https://localhost:8080/"
        },
        "outputId": "0b05abd3-7569-4233-a364-53a5a48595a6"
      },
      "source": [
        "#replace the embeddings with the GloVe pre-trained embeddings with LSTM\n",
        "# your code goes here\n",
        "from keras.layers import LSTM\n",
        "LSTM_units=100\n",
        "hidden_layer = 16\n",
        "\n",
        "#sequential library is used to add layer one by one\n",
        "model3c = Sequential()\n",
        "#first layer --> pre-trained embedding layer\n",
        "model3c.add(createPretrainedEmbeddingLayer(wordToGlove, wordToIndex, isTrainable=False))\n",
        "#second layer --> LSTM layer\n",
        "model3c.add(LSTM((LSTM_units), return_sequences=False))\n",
        "#third layer --> dense layer\n",
        "model3c.add(Dense(1, activation='sigmoid', name=\"output_layer\"))\n",
        "\n",
        "model3c.summary()"
      ],
      "execution_count": null,
      "outputs": [
        {
          "output_type": "stream",
          "text": [
            "Model: \"sequential_4\"\n",
            "_________________________________________________________________\n",
            "Layer (type)                 Output Shape              Param #   \n",
            "=================================================================\n",
            "GloVe_Embeddings (Embedding) (None, None, 300)         120000300 \n",
            "_________________________________________________________________\n",
            "lstm (LSTM)                  (None, 100)               160400    \n",
            "_________________________________________________________________\n",
            "output_layer (Dense)         (None, 1)                 101       \n",
            "=================================================================\n",
            "Total params: 120,160,801\n",
            "Trainable params: 160,501\n",
            "Non-trainable params: 120,000,300\n",
            "_________________________________________________________________\n"
          ],
          "name": "stdout"
        }
      ]
    },
    {
      "cell_type": "code",
      "metadata": {
        "id": "EqyL_rhaUElx"
      },
      "source": [
        "# Train and test the model\n",
        "#compiling the data\n",
        "model3c.compile(optimizer='adam', loss='binary_crossentropy', metrics=['accuracy'])"
      ],
      "execution_count": null,
      "outputs": []
    },
    {
      "cell_type": "code",
      "metadata": {
        "colab": {
          "base_uri": "https://localhost:8080/"
        },
        "id": "yMcni6yi11y7",
        "outputId": "bb508a3d-ed0b-4e01-92d5-0495fd95e62f"
      },
      "source": [
        "#training on validation data\n",
        "history3c = model3c.fit(partial_X_train,\n",
        "                    partial_y_train,\n",
        "                    epochs=40,\n",
        "                    batch_size=512,\n",
        "                    validation_data=(X_val, y_val),\n",
        "                    verbose=1)"
      ],
      "execution_count": null,
      "outputs": [
        {
          "output_type": "stream",
          "text": [
            "Epoch 1/40\n",
            "30/30 [==============================] - 9s 103ms/step - loss: 0.6915 - accuracy: 0.5167 - val_loss: 0.6795 - val_accuracy: 0.5373\n",
            "Epoch 2/40\n",
            "30/30 [==============================] - 3s 91ms/step - loss: 0.6724 - accuracy: 0.5762 - val_loss: 0.6849 - val_accuracy: 0.5342\n",
            "Epoch 3/40\n",
            "30/30 [==============================] - 3s 92ms/step - loss: 0.6785 - accuracy: 0.5403 - val_loss: 0.6810 - val_accuracy: 0.5298\n",
            "Epoch 4/40\n",
            "30/30 [==============================] - 3s 91ms/step - loss: 0.6700 - accuracy: 0.5542 - val_loss: 0.6638 - val_accuracy: 0.5895\n",
            "Epoch 5/40\n",
            "30/30 [==============================] - 3s 92ms/step - loss: 0.6507 - accuracy: 0.6213 - val_loss: 0.6823 - val_accuracy: 0.5249\n",
            "Epoch 6/40\n",
            "30/30 [==============================] - 3s 91ms/step - loss: 0.6720 - accuracy: 0.5393 - val_loss: 0.6776 - val_accuracy: 0.5426\n",
            "Epoch 7/40\n",
            "30/30 [==============================] - 3s 91ms/step - loss: 0.6636 - accuracy: 0.5683 - val_loss: 0.6735 - val_accuracy: 0.5477\n",
            "Epoch 8/40\n",
            "30/30 [==============================] - 3s 92ms/step - loss: 0.6520 - accuracy: 0.5941 - val_loss: 0.6659 - val_accuracy: 0.5769\n",
            "Epoch 9/40\n",
            "30/30 [==============================] - 3s 91ms/step - loss: 0.6273 - accuracy: 0.6542 - val_loss: 0.6378 - val_accuracy: 0.6566\n",
            "Epoch 10/40\n",
            "30/30 [==============================] - 3s 91ms/step - loss: 0.6255 - accuracy: 0.6521 - val_loss: 0.6805 - val_accuracy: 0.5253\n",
            "Epoch 11/40\n",
            "30/30 [==============================] - 3s 91ms/step - loss: 0.6682 - accuracy: 0.5496 - val_loss: 0.6763 - val_accuracy: 0.5321\n",
            "Epoch 12/40\n",
            "30/30 [==============================] - 3s 92ms/step - loss: 0.6561 - accuracy: 0.5703 - val_loss: 0.6708 - val_accuracy: 0.5433\n",
            "Epoch 13/40\n",
            "30/30 [==============================] - 3s 91ms/step - loss: 0.6442 - accuracy: 0.5910 - val_loss: 0.6819 - val_accuracy: 0.5377\n",
            "Epoch 14/40\n",
            "30/30 [==============================] - 3s 91ms/step - loss: 0.6373 - accuracy: 0.6102 - val_loss: 0.6418 - val_accuracy: 0.6048\n",
            "Epoch 15/40\n",
            "30/30 [==============================] - 3s 91ms/step - loss: 0.6192 - accuracy: 0.6651 - val_loss: 0.7246 - val_accuracy: 0.5208\n",
            "Epoch 16/40\n",
            "30/30 [==============================] - 3s 91ms/step - loss: 0.7070 - accuracy: 0.5238 - val_loss: 0.6815 - val_accuracy: 0.5235\n",
            "Epoch 17/40\n",
            "30/30 [==============================] - 3s 91ms/step - loss: 0.6667 - accuracy: 0.5567 - val_loss: 0.6778 - val_accuracy: 0.5291\n",
            "Epoch 18/40\n",
            "30/30 [==============================] - 3s 92ms/step - loss: 0.6555 - accuracy: 0.5735 - val_loss: 0.6778 - val_accuracy: 0.5287\n",
            "Epoch 19/40\n",
            "30/30 [==============================] - 3s 91ms/step - loss: 0.6508 - accuracy: 0.5695 - val_loss: 0.6762 - val_accuracy: 0.5329\n",
            "Epoch 20/40\n",
            "30/30 [==============================] - 3s 91ms/step - loss: 0.6455 - accuracy: 0.5769 - val_loss: 0.6755 - val_accuracy: 0.5379\n",
            "Epoch 21/40\n",
            "30/30 [==============================] - 3s 92ms/step - loss: 0.6369 - accuracy: 0.5822 - val_loss: 0.6732 - val_accuracy: 0.5406\n",
            "Epoch 22/40\n",
            "30/30 [==============================] - 3s 93ms/step - loss: 0.6311 - accuracy: 0.5830 - val_loss: 0.6716 - val_accuracy: 0.5502\n",
            "Epoch 23/40\n",
            "30/30 [==============================] - 3s 93ms/step - loss: 0.6216 - accuracy: 0.6011 - val_loss: 0.6649 - val_accuracy: 0.5700\n",
            "Epoch 24/40\n",
            "30/30 [==============================] - 3s 92ms/step - loss: 0.6136 - accuracy: 0.6320 - val_loss: 0.5972 - val_accuracy: 0.7037\n",
            "Epoch 25/40\n",
            "30/30 [==============================] - 3s 91ms/step - loss: 0.6016 - accuracy: 0.6832 - val_loss: 0.6557 - val_accuracy: 0.6208\n",
            "Epoch 26/40\n",
            "30/30 [==============================] - 3s 92ms/step - loss: 0.5938 - accuracy: 0.6897 - val_loss: 0.7114 - val_accuracy: 0.5117\n",
            "Epoch 27/40\n",
            "30/30 [==============================] - 3s 91ms/step - loss: 0.6686 - accuracy: 0.5446 - val_loss: 0.6804 - val_accuracy: 0.5292\n",
            "Epoch 28/40\n",
            "30/30 [==============================] - 3s 91ms/step - loss: 0.6516 - accuracy: 0.5757 - val_loss: 0.6783 - val_accuracy: 0.5306\n",
            "Epoch 29/40\n",
            "30/30 [==============================] - 3s 92ms/step - loss: 0.6449 - accuracy: 0.5822 - val_loss: 0.6782 - val_accuracy: 0.5336\n",
            "Epoch 30/40\n",
            "30/30 [==============================] - 3s 92ms/step - loss: 0.6368 - accuracy: 0.5849 - val_loss: 0.6780 - val_accuracy: 0.5362\n",
            "Epoch 31/40\n",
            "30/30 [==============================] - 3s 93ms/step - loss: 0.6318 - accuracy: 0.5872 - val_loss: 0.6735 - val_accuracy: 0.5504\n",
            "Epoch 32/40\n",
            "30/30 [==============================] - 3s 93ms/step - loss: 0.6204 - accuracy: 0.6046 - val_loss: 0.6711 - val_accuracy: 0.5524\n",
            "Epoch 33/40\n",
            "30/30 [==============================] - 3s 93ms/step - loss: 0.6104 - accuracy: 0.6062 - val_loss: 0.6710 - val_accuracy: 0.5557\n",
            "Epoch 34/40\n",
            "30/30 [==============================] - 3s 92ms/step - loss: 0.6024 - accuracy: 0.6164 - val_loss: 0.6686 - val_accuracy: 0.5588\n",
            "Epoch 35/40\n",
            "30/30 [==============================] - 3s 92ms/step - loss: 0.5952 - accuracy: 0.6245 - val_loss: 0.6640 - val_accuracy: 0.5660\n",
            "Epoch 36/40\n",
            "30/30 [==============================] - 3s 93ms/step - loss: 0.6267 - accuracy: 0.6096 - val_loss: 0.6876 - val_accuracy: 0.5253\n",
            "Epoch 37/40\n",
            "30/30 [==============================] - 3s 92ms/step - loss: 0.6518 - accuracy: 0.5589 - val_loss: 0.6754 - val_accuracy: 0.5356\n",
            "Epoch 38/40\n",
            "30/30 [==============================] - 3s 93ms/step - loss: 0.6323 - accuracy: 0.5980 - val_loss: 0.6701 - val_accuracy: 0.5488\n",
            "Epoch 39/40\n",
            "30/30 [==============================] - 3s 93ms/step - loss: 0.6159 - accuracy: 0.6159 - val_loss: 0.6711 - val_accuracy: 0.5501\n",
            "Epoch 40/40\n",
            "30/30 [==============================] - 3s 92ms/step - loss: 0.6078 - accuracy: 0.6153 - val_loss: 0.6739 - val_accuracy: 0.5518\n"
          ],
          "name": "stdout"
        }
      ]
    },
    {
      "cell_type": "code",
      "metadata": {
        "colab": {
          "base_uri": "https://localhost:8080/"
        },
        "id": "BR8UYIH7112J",
        "outputId": "3d6d3f36-0e51-4d4f-8dce-f7d74dfb21e4"
      },
      "source": [
        "#evaluate on test data\n",
        "results = model3c.evaluate(X_test_enc, y_test)"
      ],
      "execution_count": null,
      "outputs": [
        {
          "output_type": "stream",
          "text": [
            "782/782 [==============================] - 6s 8ms/step - loss: 0.6727 - accuracy: 0.5531\n"
          ],
          "name": "stdout"
        }
      ]
    },
    {
      "cell_type": "code",
      "metadata": {
        "colab": {
          "base_uri": "https://localhost:8080/"
        },
        "id": "61ctypI7115c",
        "outputId": "c05e2fd4-7c76-409c-8d11-d034d7ce7f9f"
      },
      "source": [
        "#loss, accuracy\n",
        "print(results)"
      ],
      "execution_count": null,
      "outputs": [
        {
          "output_type": "stream",
          "text": [
            "[0.6727245450019836, 0.5530800223350525]\n"
          ],
          "name": "stdout"
        }
      ]
    },
    {
      "cell_type": "code",
      "metadata": {
        "colab": {
          "base_uri": "https://localhost:8080/",
          "height": 369
        },
        "id": "lD_ZZ9If118r",
        "outputId": "cf77abf8-366e-4735-fedb-d580ddd01c55"
      },
      "source": [
        "#plot\n",
        "plot_history(history3c.history, path=\"standard.png\")\n",
        "plt.show()"
      ],
      "execution_count": null,
      "outputs": [
        {
          "output_type": "display_data",
          "data": {
            "image/png": "[encoded data removed]",
            "text/plain": [
              "<Figure size 720x360 with 2 Axes>"
            ]
          },
          "metadata": {
            "tags": [],
            "needs_background": "light"
          }
        }
      ]
    },
    {
      "cell_type": "markdown",
      "metadata": {
        "id": "XOqePi5-I1Xq"
      },
      "source": [
        "Experiment show that simply replacing the lab 2 model embeddings with pre-trained word embeddings (GloVe) will cause performance to drop significantly. \n",
        "What can you do to improve the situation?\n",
        "\n",
        "**ANSWER:**\n",
        "* By adding a bidirectional LSTM (or) extra hidden layer we can improve this situation."
      ]
    },
    {
      "cell_type": "markdown",
      "metadata": {
        "id": "M-bZ5SCHiIMl"
      },
      "source": [
        "#  **Model 4: Adding extra dense layer into Neural averaging network model**"
      ]
    },
    {
      "cell_type": "markdown",
      "metadata": {
        "id": "ExgX8bxpVgps"
      },
      "source": [
        "### **Adding one extra dense layer**"
      ]
    },
    {
      "cell_type": "code",
      "metadata": {
        "id": "dTgD_gMzXa1z",
        "colab": {
          "base_uri": "https://localhost:8080/"
        },
        "outputId": "76d874a9-9406-4f87-cb23-40f218fdc246"
      },
      "source": [
        "# Inspect model performance with 1 hidden layer, pre-trained embeddings\n",
        "# your code goes here\n",
        "hidden_layer=16\n",
        "\n",
        "#sequential library is used to add layer one by one\n",
        "model4a = Sequential()\n",
        "#first layer --> pre-trained embedding layer\n",
        "model4a.add(createPretrainedEmbeddingLayer(wordToGlove,wordToIndex,isTrainable=False))\n",
        "#second layer --> globalpooling layer\n",
        "model4a.add(GlobalAveragePooling1DMasked())\n",
        "#third layer --> dense layer with 1 hidden layer\n",
        "model4a.add(Dense(hidden_layer, activation='sigmoid', name=\"hidden_layer\"))\n",
        "#fourth layer --> first dense layer\n",
        "model4a.add(Dense(4, activation='relu', name=\"first_dense_layer\"))\n",
        "#fifth layer --> output layer\n",
        "model4a.add(Dense(1, activation='sigmoid', name=\"output_layer\"))\n",
        "\n",
        "model4a.summary()"
      ],
      "execution_count": null,
      "outputs": [
        {
          "output_type": "stream",
          "text": [
            "Model: \"sequential_5\"\n",
            "_________________________________________________________________\n",
            "Layer (type)                 Output Shape              Param #   \n",
            "=================================================================\n",
            "GloVe_Embeddings (Embedding) (None, None, 300)         120000300 \n",
            "_________________________________________________________________\n",
            "global_average_pooling1d_mas (None, 300)               0         \n",
            "_________________________________________________________________\n",
            "hidden_layer (Dense)         (None, 16)                4816      \n",
            "_________________________________________________________________\n",
            "first_dense_layer (Dense)    (None, 4)                 68        \n",
            "_________________________________________________________________\n",
            "output_layer (Dense)         (None, 1)                 5         \n",
            "=================================================================\n",
            "Total params: 120,005,189\n",
            "Trainable params: 4,889\n",
            "Non-trainable params: 120,000,300\n",
            "_________________________________________________________________\n"
          ],
          "name": "stdout"
        }
      ]
    },
    {
      "cell_type": "code",
      "metadata": {
        "id": "ig3HdCHg4FTX"
      },
      "source": [
        "#compile\n",
        "model4a.compile(optimizer='adam', loss='binary_crossentropy', metrics=['accuracy'])"
      ],
      "execution_count": null,
      "outputs": []
    },
    {
      "cell_type": "code",
      "metadata": {
        "colab": {
          "base_uri": "https://localhost:8080/"
        },
        "id": "HTO2yEJ14FXG",
        "outputId": "f1f20df9-587c-4a8b-ad47-3352120c7fe5"
      },
      "source": [
        "#training\n",
        "history4a = model4a.fit(partial_X_train,\n",
        "                    partial_y_train,\n",
        "                    epochs=40,\n",
        "                    batch_size=512,\n",
        "                    validation_data=(X_val, y_val),\n",
        "                    verbose=1)"
      ],
      "execution_count": null,
      "outputs": [
        {
          "output_type": "stream",
          "text": [
            "Epoch 1/40\n",
            "30/30 [==============================] - 2s 49ms/step - loss: 0.7353 - accuracy: 0.4931 - val_loss: 0.6941 - val_accuracy: 0.4975\n",
            "Epoch 2/40\n",
            "30/30 [==============================] - 1s 45ms/step - loss: 0.6939 - accuracy: 0.5018 - val_loss: 0.6928 - val_accuracy: 0.5059\n",
            "Epoch 3/40\n",
            "30/30 [==============================] - 1s 45ms/step - loss: 0.6926 - accuracy: 0.5072 - val_loss: 0.6907 - val_accuracy: 0.5162\n",
            "Epoch 4/40\n",
            "30/30 [==============================] - 1s 45ms/step - loss: 0.6906 - accuracy: 0.5146 - val_loss: 0.6888 - val_accuracy: 0.5378\n",
            "Epoch 5/40\n",
            "30/30 [==============================] - 1s 45ms/step - loss: 0.6881 - accuracy: 0.5454 - val_loss: 0.6870 - val_accuracy: 0.5552\n",
            "Epoch 6/40\n",
            "30/30 [==============================] - 1s 45ms/step - loss: 0.6858 - accuracy: 0.5672 - val_loss: 0.6853 - val_accuracy: 0.5631\n",
            "Epoch 7/40\n",
            "30/30 [==============================] - 1s 45ms/step - loss: 0.6836 - accuracy: 0.5801 - val_loss: 0.6781 - val_accuracy: 0.5767\n",
            "Epoch 8/40\n",
            "30/30 [==============================] - 1s 45ms/step - loss: 0.6756 - accuracy: 0.5895 - val_loss: 0.6730 - val_accuracy: 0.5890\n",
            "Epoch 9/40\n",
            "30/30 [==============================] - 1s 45ms/step - loss: 0.6720 - accuracy: 0.5895 - val_loss: 0.6692 - val_accuracy: 0.5983\n",
            "Epoch 10/40\n",
            "30/30 [==============================] - 1s 45ms/step - loss: 0.6681 - accuracy: 0.6053 - val_loss: 0.6653 - val_accuracy: 0.6073\n",
            "Epoch 11/40\n",
            "30/30 [==============================] - 1s 45ms/step - loss: 0.6657 - accuracy: 0.6138 - val_loss: 0.6615 - val_accuracy: 0.6147\n",
            "Epoch 12/40\n",
            "30/30 [==============================] - 1s 45ms/step - loss: 0.6600 - accuracy: 0.6240 - val_loss: 0.6577 - val_accuracy: 0.6202\n",
            "Epoch 13/40\n",
            "30/30 [==============================] - 1s 45ms/step - loss: 0.6534 - accuracy: 0.6362 - val_loss: 0.6541 - val_accuracy: 0.6306\n",
            "Epoch 14/40\n",
            "30/30 [==============================] - 1s 45ms/step - loss: 0.6468 - accuracy: 0.6474 - val_loss: 0.6496 - val_accuracy: 0.6320\n",
            "Epoch 15/40\n",
            "30/30 [==============================] - 1s 45ms/step - loss: 0.6482 - accuracy: 0.6425 - val_loss: 0.6460 - val_accuracy: 0.6423\n",
            "Epoch 16/40\n",
            "30/30 [==============================] - 1s 45ms/step - loss: 0.6422 - accuracy: 0.6520 - val_loss: 0.6411 - val_accuracy: 0.6478\n",
            "Epoch 17/40\n",
            "30/30 [==============================] - 1s 45ms/step - loss: 0.6396 - accuracy: 0.6535 - val_loss: 0.6367 - val_accuracy: 0.6532\n",
            "Epoch 18/40\n",
            "30/30 [==============================] - 1s 45ms/step - loss: 0.6333 - accuracy: 0.6642 - val_loss: 0.6328 - val_accuracy: 0.6577\n",
            "Epoch 19/40\n",
            "30/30 [==============================] - 1s 45ms/step - loss: 0.6259 - accuracy: 0.6694 - val_loss: 0.6293 - val_accuracy: 0.6621\n",
            "Epoch 20/40\n",
            "30/30 [==============================] - 1s 45ms/step - loss: 0.6230 - accuracy: 0.6775 - val_loss: 0.6246 - val_accuracy: 0.6688\n",
            "Epoch 21/40\n",
            "30/30 [==============================] - 1s 45ms/step - loss: 0.6197 - accuracy: 0.6830 - val_loss: 0.6207 - val_accuracy: 0.6725\n",
            "Epoch 22/40\n",
            "30/30 [==============================] - 1s 45ms/step - loss: 0.6140 - accuracy: 0.6843 - val_loss: 0.6178 - val_accuracy: 0.6723\n",
            "Epoch 23/40\n",
            "30/30 [==============================] - 1s 45ms/step - loss: 0.6126 - accuracy: 0.6787 - val_loss: 0.6145 - val_accuracy: 0.6766\n",
            "Epoch 24/40\n",
            "30/30 [==============================] - 1s 45ms/step - loss: 0.6048 - accuracy: 0.6892 - val_loss: 0.6106 - val_accuracy: 0.6794\n",
            "Epoch 25/40\n",
            "30/30 [==============================] - 1s 44ms/step - loss: 0.6067 - accuracy: 0.6878 - val_loss: 0.6075 - val_accuracy: 0.6844\n",
            "Epoch 26/40\n",
            "30/30 [==============================] - 1s 45ms/step - loss: 0.5993 - accuracy: 0.6925 - val_loss: 0.6043 - val_accuracy: 0.6867\n",
            "Epoch 27/40\n",
            "30/30 [==============================] - 1s 45ms/step - loss: 0.5923 - accuracy: 0.6983 - val_loss: 0.6015 - val_accuracy: 0.6891\n",
            "Epoch 28/40\n",
            "30/30 [==============================] - 1s 45ms/step - loss: 0.5944 - accuracy: 0.6933 - val_loss: 0.5995 - val_accuracy: 0.6885\n",
            "Epoch 29/40\n",
            "30/30 [==============================] - 1s 45ms/step - loss: 0.5893 - accuracy: 0.7003 - val_loss: 0.5973 - val_accuracy: 0.6884\n",
            "Epoch 30/40\n",
            "30/30 [==============================] - 1s 45ms/step - loss: 0.5879 - accuracy: 0.7014 - val_loss: 0.5943 - val_accuracy: 0.6928\n",
            "Epoch 31/40\n",
            "30/30 [==============================] - 1s 45ms/step - loss: 0.5863 - accuracy: 0.7018 - val_loss: 0.5926 - val_accuracy: 0.6944\n",
            "Epoch 32/40\n",
            "30/30 [==============================] - 1s 45ms/step - loss: 0.5837 - accuracy: 0.7037 - val_loss: 0.5902 - val_accuracy: 0.6965\n",
            "Epoch 33/40\n",
            "30/30 [==============================] - 1s 45ms/step - loss: 0.5843 - accuracy: 0.7005 - val_loss: 0.5888 - val_accuracy: 0.6978\n",
            "Epoch 34/40\n",
            "30/30 [==============================] - 1s 45ms/step - loss: 0.5778 - accuracy: 0.7094 - val_loss: 0.5869 - val_accuracy: 0.6982\n",
            "Epoch 35/40\n",
            "30/30 [==============================] - 1s 45ms/step - loss: 0.5749 - accuracy: 0.7091 - val_loss: 0.5847 - val_accuracy: 0.7007\n",
            "Epoch 36/40\n",
            "30/30 [==============================] - 1s 45ms/step - loss: 0.5748 - accuracy: 0.7092 - val_loss: 0.5883 - val_accuracy: 0.6928\n",
            "Epoch 37/40\n",
            "30/30 [==============================] - 1s 45ms/step - loss: 0.5772 - accuracy: 0.7094 - val_loss: 0.5819 - val_accuracy: 0.7020\n",
            "Epoch 38/40\n",
            "30/30 [==============================] - 1s 45ms/step - loss: 0.5732 - accuracy: 0.7077 - val_loss: 0.5863 - val_accuracy: 0.6933\n",
            "Epoch 39/40\n",
            "30/30 [==============================] - 1s 45ms/step - loss: 0.5706 - accuracy: 0.7166 - val_loss: 0.5784 - val_accuracy: 0.7038\n",
            "Epoch 40/40\n",
            "30/30 [==============================] - 1s 45ms/step - loss: 0.5626 - accuracy: 0.7208 - val_loss: 0.5767 - val_accuracy: 0.7040\n"
          ],
          "name": "stdout"
        }
      ]
    },
    {
      "cell_type": "code",
      "metadata": {
        "colab": {
          "base_uri": "https://localhost:8080/"
        },
        "id": "lvZchJG-4Fas",
        "outputId": "4fc8f139-3895-4683-c095-ede3f594b9eb"
      },
      "source": [
        "#testing\n",
        "results = model4a.evaluate(X_test_enc, y_test)"
      ],
      "execution_count": null,
      "outputs": [
        {
          "output_type": "stream",
          "text": [
            "782/782 [==============================] - 2s 3ms/step - loss: 0.5774 - accuracy: 0.7011\n"
          ],
          "name": "stdout"
        }
      ]
    },
    {
      "cell_type": "code",
      "metadata": {
        "colab": {
          "base_uri": "https://localhost:8080/"
        },
        "id": "SB9vurPT4rvF",
        "outputId": "294d2bb1-dd7d-4cb3-c313-9c79e525455a"
      },
      "source": [
        "#loss, acccuracy\n",
        "print(results)"
      ],
      "execution_count": null,
      "outputs": [
        {
          "output_type": "stream",
          "text": [
            "[0.5773522257804871, 0.7011200189590454]\n"
          ],
          "name": "stdout"
        }
      ]
    },
    {
      "cell_type": "code",
      "metadata": {
        "colab": {
          "base_uri": "https://localhost:8080/",
          "height": 369
        },
        "id": "qKAlTYBe4ryk",
        "outputId": "00308b49-f63f-417a-e849-71c4002d2b5d"
      },
      "source": [
        "#plot\n",
        "plot_history(history4a.history, path=\"standard.png\")\n",
        "plt.show()"
      ],
      "execution_count": null,
      "outputs": [
        {
          "output_type": "display_data",
          "data": {
            "image/png": "[encoded data removed]",
            "text/plain": [
              "<Figure size 720x360 with 2 Axes>"
            ]
          },
          "metadata": {
            "tags": [],
            "needs_background": "light"
          }
        }
      ]
    },
    {
      "cell_type": "markdown",
      "metadata": {
        "id": "K0npTvFuVt5R"
      },
      "source": [
        "### **Adding two extra dense layers**"
      ]
    },
    {
      "cell_type": "code",
      "metadata": {
        "id": "PowyhyRqcdDA",
        "colab": {
          "base_uri": "https://localhost:8080/"
        },
        "outputId": "c2294ec7-14ce-44b0-e1b5-19b3302a5d33"
      },
      "source": [
        "# Inspect model performance with 1 hidden layer, pre-trained embeddings\n",
        "# your code goes here\n",
        "hidden_layer=16\n",
        "\n",
        "#sequential library is used to add layer one by one\n",
        "model4b = Sequential()\n",
        "#first layer --> pre-trained embedding layer\n",
        "model4b.add(createPretrainedEmbeddingLayer(wordToGlove,wordToIndex,isTrainable=False))\n",
        "#second layer --> globalpooling layer\n",
        "model4b.add(GlobalAveragePooling1DMasked())\n",
        "#third layer --> layer with hidden layer\n",
        "model4b.add(Dense(hidden_layer, activation='sigmoid', name=\"hidden_layer\"))\n",
        "#fourth layer --> first dense layer\n",
        "model4b.add(Dense(2, activation='relu', name=\"first_dense_layer\"))\n",
        "#fifth layer --> second dense layer\n",
        "model4b.add(Dense(4, activation='softmax', name=\"second_dense_layer\"))\n",
        "#sixth layer --> output layer\n",
        "model4b.add(Dense(1, activation='sigmoid', name=\"output_layer\"))\n",
        "\n",
        "model4b.summary()"
      ],
      "execution_count": null,
      "outputs": [
        {
          "output_type": "stream",
          "text": [
            "Model: \"sequential_6\"\n",
            "_________________________________________________________________\n",
            "Layer (type)                 Output Shape              Param #   \n",
            "=================================================================\n",
            "GloVe_Embeddings (Embedding) (None, None, 300)         120000300 \n",
            "_________________________________________________________________\n",
            "global_average_pooling1d_mas (None, 300)               0         \n",
            "_________________________________________________________________\n",
            "hidden_layer (Dense)         (None, 16)                4816      \n",
            "_________________________________________________________________\n",
            "first_dense_layer (Dense)    (None, 2)                 34        \n",
            "_________________________________________________________________\n",
            "second_dense_layer (Dense)   (None, 4)                 12        \n",
            "_________________________________________________________________\n",
            "output_layer (Dense)         (None, 1)                 5         \n",
            "=================================================================\n",
            "Total params: 120,005,167\n",
            "Trainable params: 4,867\n",
            "Non-trainable params: 120,000,300\n",
            "_________________________________________________________________\n"
          ],
          "name": "stdout"
        }
      ]
    },
    {
      "cell_type": "code",
      "metadata": {
        "id": "G8FiTefm55pS"
      },
      "source": [
        "#compile\n",
        "model4b.compile(optimizer='adam', loss='binary_crossentropy', metrics=['accuracy'])"
      ],
      "execution_count": null,
      "outputs": []
    },
    {
      "cell_type": "code",
      "metadata": {
        "colab": {
          "base_uri": "https://localhost:8080/"
        },
        "id": "IHR65jov55tO",
        "outputId": "7058a8fb-1886-4911-992d-bb58b898007e"
      },
      "source": [
        "#training\n",
        "history4b = model4b.fit(partial_X_train,\n",
        "                    partial_y_train,\n",
        "                    epochs=40,\n",
        "                    batch_size=512,\n",
        "                    validation_data=(X_val, y_val),\n",
        "                    verbose=1)"
      ],
      "execution_count": null,
      "outputs": [
        {
          "output_type": "stream",
          "text": [
            "Epoch 1/40\n",
            "30/30 [==============================] - 2s 49ms/step - loss: 0.7205 - accuracy: 0.4968 - val_loss: 0.7108 - val_accuracy: 0.5053\n",
            "Epoch 2/40\n",
            "30/30 [==============================] - 1s 45ms/step - loss: 0.7131 - accuracy: 0.4956 - val_loss: 0.7056 - val_accuracy: 0.5053\n",
            "Epoch 3/40\n",
            "30/30 [==============================] - 1s 45ms/step - loss: 0.7071 - accuracy: 0.4973 - val_loss: 0.7016 - val_accuracy: 0.5053\n",
            "Epoch 4/40\n",
            "30/30 [==============================] - 1s 45ms/step - loss: 0.7037 - accuracy: 0.4948 - val_loss: 0.6987 - val_accuracy: 0.5053\n",
            "Epoch 5/40\n",
            "30/30 [==============================] - 1s 45ms/step - loss: 0.7012 - accuracy: 0.4915 - val_loss: 0.6966 - val_accuracy: 0.5053\n",
            "Epoch 6/40\n",
            "30/30 [==============================] - 1s 45ms/step - loss: 0.6975 - accuracy: 0.4982 - val_loss: 0.6952 - val_accuracy: 0.5053\n",
            "Epoch 7/40\n",
            "30/30 [==============================] - 1s 45ms/step - loss: 0.6957 - accuracy: 0.4997 - val_loss: 0.6943 - val_accuracy: 0.5053\n",
            "Epoch 8/40\n",
            "30/30 [==============================] - 1s 45ms/step - loss: 0.6947 - accuracy: 0.4998 - val_loss: 0.6937 - val_accuracy: 0.5053\n",
            "Epoch 9/40\n",
            "30/30 [==============================] - 1s 45ms/step - loss: 0.6942 - accuracy: 0.4970 - val_loss: 0.6933 - val_accuracy: 0.5053\n",
            "Epoch 10/40\n",
            "30/30 [==============================] - 1s 45ms/step - loss: 0.6939 - accuracy: 0.4943 - val_loss: 0.6931 - val_accuracy: 0.5053\n",
            "Epoch 11/40\n",
            "30/30 [==============================] - 1s 45ms/step - loss: 0.6938 - accuracy: 0.4890 - val_loss: 0.6931 - val_accuracy: 0.5053\n",
            "Epoch 12/40\n",
            "30/30 [==============================] - 1s 45ms/step - loss: 0.6933 - accuracy: 0.4957 - val_loss: 0.6930 - val_accuracy: 0.5053\n",
            "Epoch 13/40\n",
            "30/30 [==============================] - 1s 45ms/step - loss: 0.6931 - accuracy: 0.5003 - val_loss: 0.6930 - val_accuracy: 0.5053\n",
            "Epoch 14/40\n",
            "30/30 [==============================] - 1s 45ms/step - loss: 0.6931 - accuracy: 0.4947 - val_loss: 0.6929 - val_accuracy: 0.5053\n",
            "Epoch 15/40\n",
            "30/30 [==============================] - 1s 45ms/step - loss: 0.6929 - accuracy: 0.5001 - val_loss: 0.6927 - val_accuracy: 0.5456\n",
            "Epoch 16/40\n",
            "30/30 [==============================] - 1s 45ms/step - loss: 0.6927 - accuracy: 0.5378 - val_loss: 0.6923 - val_accuracy: 0.5749\n",
            "Epoch 17/40\n",
            "30/30 [==============================] - 1s 45ms/step - loss: 0.6922 - accuracy: 0.5693 - val_loss: 0.6918 - val_accuracy: 0.5825\n",
            "Epoch 18/40\n",
            "30/30 [==============================] - 1s 45ms/step - loss: 0.6916 - accuracy: 0.5851 - val_loss: 0.6910 - val_accuracy: 0.5895\n",
            "Epoch 19/40\n",
            "30/30 [==============================] - 1s 45ms/step - loss: 0.6907 - accuracy: 0.5877 - val_loss: 0.6899 - val_accuracy: 0.5855\n",
            "Epoch 20/40\n",
            "30/30 [==============================] - 1s 45ms/step - loss: 0.6896 - accuracy: 0.5886 - val_loss: 0.6885 - val_accuracy: 0.5738\n",
            "Epoch 21/40\n",
            "30/30 [==============================] - 1s 45ms/step - loss: 0.6879 - accuracy: 0.5888 - val_loss: 0.6867 - val_accuracy: 0.5893\n",
            "Epoch 22/40\n",
            "30/30 [==============================] - 1s 45ms/step - loss: 0.6864 - accuracy: 0.6020 - val_loss: 0.6848 - val_accuracy: 0.5961\n",
            "Epoch 23/40\n",
            "30/30 [==============================] - 1s 45ms/step - loss: 0.6838 - accuracy: 0.6075 - val_loss: 0.6828 - val_accuracy: 0.5985\n",
            "Epoch 24/40\n",
            "30/30 [==============================] - 1s 45ms/step - loss: 0.6822 - accuracy: 0.6055 - val_loss: 0.6805 - val_accuracy: 0.6056\n",
            "Epoch 25/40\n",
            "30/30 [==============================] - 1s 45ms/step - loss: 0.6799 - accuracy: 0.6139 - val_loss: 0.6781 - val_accuracy: 0.6099\n",
            "Epoch 26/40\n",
            "30/30 [==============================] - 1s 45ms/step - loss: 0.6777 - accuracy: 0.6217 - val_loss: 0.6753 - val_accuracy: 0.6140\n",
            "Epoch 27/40\n",
            "30/30 [==============================] - 1s 45ms/step - loss: 0.6739 - accuracy: 0.6278 - val_loss: 0.6719 - val_accuracy: 0.6229\n",
            "Epoch 28/40\n",
            "30/30 [==============================] - 1s 45ms/step - loss: 0.6698 - accuracy: 0.6390 - val_loss: 0.6685 - val_accuracy: 0.6248\n",
            "Epoch 29/40\n",
            "30/30 [==============================] - 1s 45ms/step - loss: 0.6661 - accuracy: 0.6434 - val_loss: 0.6641 - val_accuracy: 0.6406\n",
            "Epoch 30/40\n",
            "30/30 [==============================] - 1s 45ms/step - loss: 0.6614 - accuracy: 0.6502 - val_loss: 0.6593 - val_accuracy: 0.6471\n",
            "Epoch 31/40\n",
            "30/30 [==============================] - 1s 45ms/step - loss: 0.6548 - accuracy: 0.6664 - val_loss: 0.6542 - val_accuracy: 0.6559\n",
            "Epoch 32/40\n",
            "30/30 [==============================] - 1s 45ms/step - loss: 0.6514 - accuracy: 0.6620 - val_loss: 0.6489 - val_accuracy: 0.6610\n",
            "Epoch 33/40\n",
            "30/30 [==============================] - 1s 45ms/step - loss: 0.6459 - accuracy: 0.6697 - val_loss: 0.6433 - val_accuracy: 0.6674\n",
            "Epoch 34/40\n",
            "30/30 [==============================] - 1s 45ms/step - loss: 0.6386 - accuracy: 0.6820 - val_loss: 0.6393 - val_accuracy: 0.6680\n",
            "Epoch 35/40\n",
            "30/30 [==============================] - 1s 45ms/step - loss: 0.6336 - accuracy: 0.6839 - val_loss: 0.6331 - val_accuracy: 0.6735\n",
            "Epoch 36/40\n",
            "30/30 [==============================] - 1s 45ms/step - loss: 0.6297 - accuracy: 0.6850 - val_loss: 0.6279 - val_accuracy: 0.6777\n",
            "Epoch 37/40\n",
            "30/30 [==============================] - 1s 45ms/step - loss: 0.6214 - accuracy: 0.6961 - val_loss: 0.6245 - val_accuracy: 0.6753\n",
            "Epoch 38/40\n",
            "30/30 [==============================] - 1s 45ms/step - loss: 0.6161 - accuracy: 0.6964 - val_loss: 0.6199 - val_accuracy: 0.6828\n",
            "Epoch 39/40\n",
            "30/30 [==============================] - 1s 45ms/step - loss: 0.6116 - accuracy: 0.6983 - val_loss: 0.6152 - val_accuracy: 0.6886\n",
            "Epoch 40/40\n",
            "30/30 [==============================] - 1s 45ms/step - loss: 0.6089 - accuracy: 0.6941 - val_loss: 0.6127 - val_accuracy: 0.6863\n"
          ],
          "name": "stdout"
        }
      ]
    },
    {
      "cell_type": "code",
      "metadata": {
        "colab": {
          "base_uri": "https://localhost:8080/"
        },
        "id": "Vt8zivlV55w4",
        "outputId": "939f7b03-abc2-485f-b17f-c04295f64f36"
      },
      "source": [
        "#testing\n",
        "results = model4b.evaluate(X_test_enc, y_test)"
      ],
      "execution_count": null,
      "outputs": [
        {
          "output_type": "stream",
          "text": [
            "782/782 [==============================] - 2s 3ms/step - loss: 0.6130 - accuracy: 0.6824\n"
          ],
          "name": "stdout"
        }
      ]
    },
    {
      "cell_type": "code",
      "metadata": {
        "colab": {
          "base_uri": "https://localhost:8080/"
        },
        "id": "jipEtobJ6FkD",
        "outputId": "1f8305c6-f9d9-4ced-febf-0cb07123340e"
      },
      "source": [
        "#loss, accuracy\n",
        "print(results)"
      ],
      "execution_count": null,
      "outputs": [
        {
          "output_type": "stream",
          "text": [
            "[0.6130428910255432, 0.6823999881744385]\n"
          ],
          "name": "stdout"
        }
      ]
    },
    {
      "cell_type": "code",
      "metadata": {
        "colab": {
          "base_uri": "https://localhost:8080/",
          "height": 369
        },
        "id": "tjTAhmGg5587",
        "outputId": "2ebb1031-74db-428c-b5ee-c16497dd185a"
      },
      "source": [
        "#plotting\n",
        "plot_history(history4b.history, path=\"standard.png\")\n",
        "plt.show()"
      ],
      "execution_count": null,
      "outputs": [
        {
          "output_type": "display_data",
          "data": {
            "image/png": "[encoded data removed]",
            "text/plain": [
              "<Figure size 720x360 with 2 Axes>"
            ]
          },
          "metadata": {
            "tags": [],
            "needs_background": "light"
          }
        }
      ]
    },
    {
      "cell_type": "markdown",
      "metadata": {
        "id": "XisS32PaTATf"
      },
      "source": [
        "These two experiments show that adding extra dense layers can slightly improve accuracy over model 3-1.\n",
        "\n",
        "**INFERENCE:**\n",
        "* Improvements can be done by adding a convolution layer (or) the dropout layer. So that, the accuracy can be increased.\n",
        "\n"
      ]
    },
    {
      "cell_type": "markdown",
      "metadata": {
        "id": "CrfC9Mu-RHID"
      },
      "source": [
        "#  **Model 5: CNN for Text Classification**"
      ]
    },
    {
      "cell_type": "markdown",
      "metadata": {
        "id": "zjOJrGCzwGM5"
      },
      "source": [
        "##  **Model 5-1: Basic CNN model for Text Classification** "
      ]
    },
    {
      "cell_type": "code",
      "metadata": {
        "id": "rXBstOw0sCYF",
        "colab": {
          "base_uri": "https://localhost:8080/"
        },
        "outputId": "6e80dc5b-82af-4341-db72-e929d2287f00"
      },
      "source": [
        "#start by using one CNN layer and then adding another layer\n",
        "#You could use embeddings from pre-trained or scratch.\n",
        "from keras.layers import Conv1D\n",
        "\n",
        "hidden_layer=16\n",
        "\n",
        "# your code goes here\n",
        "\n",
        "#sequential library is used to add layer one by one\n",
        "model5a = Sequential()\n",
        "#first layer --> pretrained embedding layer\n",
        "model5a.add(createPretrainedEmbeddingLayer(wordToGlove, wordToIndex, isTrainable=False))\n",
        "#second layer --> first convolutional layer\n",
        "model5a.add(Conv1D(128, kernel_size= 8, activation=\"relu\", strides=3, name=\"convolutional_layer1\"))\n",
        "#third layer --> pooling layer \n",
        "model5a.add(GlobalAveragePooling1DMasked())\n",
        "#fourth layer --> dense layer with 16 hidden layers \n",
        "model5a.add(Dense(hidden_layer, activation='sigmoid', name=\"hidden_layer\"))\n",
        "#fifth layer --> dense layer\n",
        "model5a.add(Dense(1, activation='sigmoid', name=\"output_layer\"))\n",
        "\n",
        "model5a.summary()"
      ],
      "execution_count": null,
      "outputs": [
        {
          "output_type": "stream",
          "text": [
            "Model: \"sequential_7\"\n",
            "_________________________________________________________________\n",
            "Layer (type)                 Output Shape              Param #   \n",
            "=================================================================\n",
            "GloVe_Embeddings (Embedding) (None, None, 300)         120000300 \n",
            "_________________________________________________________________\n",
            "convolutional_layer1 (Conv1D (None, None, 128)         230528    \n",
            "_________________________________________________________________\n",
            "global_average_pooling1d_mas (None, 128)               0         \n",
            "_________________________________________________________________\n",
            "hidden_layer (Dense)         (None, 16)                2064      \n",
            "_________________________________________________________________\n",
            "output_layer (Dense)         (None, 1)                 17        \n",
            "=================================================================\n",
            "Total params: 120,232,909\n",
            "Trainable params: 232,609\n",
            "Non-trainable params: 120,000,300\n",
            "_________________________________________________________________\n"
          ],
          "name": "stdout"
        }
      ]
    },
    {
      "cell_type": "code",
      "metadata": {
        "id": "-G5MrDPJFBzK"
      },
      "source": [
        "# Train and test the model\n",
        "# your code goes here\n",
        "#compiling the model\n",
        "model5a.compile(optimizer='adam', loss='binary_crossentropy', metrics=['accuracy'])"
      ],
      "execution_count": null,
      "outputs": []
    },
    {
      "cell_type": "code",
      "metadata": {
        "colab": {
          "base_uri": "https://localhost:8080/"
        },
        "id": "GMIbs_5I70G_",
        "outputId": "228f3afe-8330-4b10-8e9b-2f92af137f7c"
      },
      "source": [
        "#training\n",
        "history5a = model5a.fit(partial_X_train,\n",
        "                    partial_y_train,\n",
        "                    epochs=40,\n",
        "                    batch_size=512,\n",
        "                    validation_data=(X_val, y_val),\n",
        "                    verbose=1)"
      ],
      "execution_count": null,
      "outputs": [
        {
          "output_type": "stream",
          "text": [
            "Epoch 1/40\n",
            "30/30 [==============================] - 3s 60ms/step - loss: 0.7058 - accuracy: 0.5110 - val_loss: 0.6894 - val_accuracy: 0.5465\n",
            "Epoch 2/40\n",
            "30/30 [==============================] - 2s 54ms/step - loss: 0.6854 - accuracy: 0.5631 - val_loss: 0.6749 - val_accuracy: 0.5871\n",
            "Epoch 3/40\n",
            "30/30 [==============================] - 2s 54ms/step - loss: 0.6690 - accuracy: 0.6077 - val_loss: 0.6613 - val_accuracy: 0.6160\n",
            "Epoch 4/40\n",
            "30/30 [==============================] - 2s 54ms/step - loss: 0.6548 - accuracy: 0.6410 - val_loss: 0.6495 - val_accuracy: 0.6317\n",
            "Epoch 5/40\n",
            "30/30 [==============================] - 2s 54ms/step - loss: 0.6414 - accuracy: 0.6507 - val_loss: 0.6316 - val_accuracy: 0.6698\n",
            "Epoch 6/40\n",
            "30/30 [==============================] - 2s 54ms/step - loss: 0.6202 - accuracy: 0.6883 - val_loss: 0.6254 - val_accuracy: 0.6601\n",
            "Epoch 7/40\n",
            "30/30 [==============================] - 2s 55ms/step - loss: 0.6115 - accuracy: 0.6804 - val_loss: 0.6037 - val_accuracy: 0.6869\n",
            "Epoch 8/40\n",
            "30/30 [==============================] - 2s 55ms/step - loss: 0.5869 - accuracy: 0.7057 - val_loss: 0.5968 - val_accuracy: 0.6867\n",
            "Epoch 9/40\n",
            "30/30 [==============================] - 2s 55ms/step - loss: 0.5769 - accuracy: 0.7145 - val_loss: 0.5841 - val_accuracy: 0.6999\n",
            "Epoch 10/40\n",
            "30/30 [==============================] - 2s 54ms/step - loss: 0.5627 - accuracy: 0.7192 - val_loss: 0.5746 - val_accuracy: 0.7048\n",
            "Epoch 11/40\n",
            "30/30 [==============================] - 2s 55ms/step - loss: 0.5510 - accuracy: 0.7319 - val_loss: 0.5676 - val_accuracy: 0.7094\n",
            "Epoch 12/40\n",
            "30/30 [==============================] - 2s 54ms/step - loss: 0.5330 - accuracy: 0.7479 - val_loss: 0.5645 - val_accuracy: 0.7115\n",
            "Epoch 13/40\n",
            "30/30 [==============================] - 2s 55ms/step - loss: 0.5314 - accuracy: 0.7422 - val_loss: 0.5584 - val_accuracy: 0.7154\n",
            "Epoch 14/40\n",
            "30/30 [==============================] - 2s 54ms/step - loss: 0.5186 - accuracy: 0.7551 - val_loss: 0.5487 - val_accuracy: 0.7263\n",
            "Epoch 15/40\n",
            "30/30 [==============================] - 2s 54ms/step - loss: 0.5091 - accuracy: 0.7637 - val_loss: 0.5430 - val_accuracy: 0.7287\n",
            "Epoch 16/40\n",
            "30/30 [==============================] - 2s 54ms/step - loss: 0.4989 - accuracy: 0.7703 - val_loss: 0.5455 - val_accuracy: 0.7289\n",
            "Epoch 17/40\n",
            "30/30 [==============================] - 2s 54ms/step - loss: 0.4934 - accuracy: 0.7702 - val_loss: 0.5548 - val_accuracy: 0.7209\n",
            "Epoch 18/40\n",
            "30/30 [==============================] - 2s 54ms/step - loss: 0.4852 - accuracy: 0.7773 - val_loss: 0.5256 - val_accuracy: 0.7421\n",
            "Epoch 19/40\n",
            "30/30 [==============================] - 2s 54ms/step - loss: 0.4825 - accuracy: 0.7754 - val_loss: 0.5257 - val_accuracy: 0.7422\n",
            "Epoch 20/40\n",
            "30/30 [==============================] - 2s 54ms/step - loss: 0.4660 - accuracy: 0.7877 - val_loss: 0.5542 - val_accuracy: 0.7223\n",
            "Epoch 21/40\n",
            "30/30 [==============================] - 2s 54ms/step - loss: 0.4594 - accuracy: 0.7953 - val_loss: 0.5176 - val_accuracy: 0.7450\n",
            "Epoch 22/40\n",
            "30/30 [==============================] - 2s 55ms/step - loss: 0.4555 - accuracy: 0.7968 - val_loss: 0.5142 - val_accuracy: 0.7504\n",
            "Epoch 23/40\n",
            "30/30 [==============================] - 2s 54ms/step - loss: 0.4431 - accuracy: 0.8063 - val_loss: 0.5171 - val_accuracy: 0.7467\n",
            "Epoch 24/40\n",
            "30/30 [==============================] - 2s 54ms/step - loss: 0.4331 - accuracy: 0.8125 - val_loss: 0.5086 - val_accuracy: 0.7504\n",
            "Epoch 25/40\n",
            "30/30 [==============================] - 2s 54ms/step - loss: 0.4249 - accuracy: 0.8167 - val_loss: 0.5124 - val_accuracy: 0.7503\n",
            "Epoch 26/40\n",
            "30/30 [==============================] - 2s 55ms/step - loss: 0.4204 - accuracy: 0.8205 - val_loss: 0.5135 - val_accuracy: 0.7514\n",
            "Epoch 27/40\n",
            "30/30 [==============================] - 2s 55ms/step - loss: 0.4132 - accuracy: 0.8244 - val_loss: 0.5005 - val_accuracy: 0.7572\n",
            "Epoch 28/40\n",
            "30/30 [==============================] - 2s 55ms/step - loss: 0.3987 - accuracy: 0.8372 - val_loss: 0.5325 - val_accuracy: 0.7405\n",
            "Epoch 29/40\n",
            "30/30 [==============================] - 2s 54ms/step - loss: 0.4029 - accuracy: 0.8332 - val_loss: 0.5200 - val_accuracy: 0.7492\n",
            "Epoch 30/40\n",
            "30/30 [==============================] - 2s 55ms/step - loss: 0.3908 - accuracy: 0.8408 - val_loss: 0.5230 - val_accuracy: 0.7480\n",
            "Epoch 31/40\n",
            "30/30 [==============================] - 2s 55ms/step - loss: 0.3754 - accuracy: 0.8456 - val_loss: 0.5107 - val_accuracy: 0.7561\n",
            "Epoch 32/40\n",
            "30/30 [==============================] - 2s 55ms/step - loss: 0.3737 - accuracy: 0.8496 - val_loss: 0.4968 - val_accuracy: 0.7610\n",
            "Epoch 33/40\n",
            "30/30 [==============================] - 2s 55ms/step - loss: 0.3525 - accuracy: 0.8616 - val_loss: 0.5058 - val_accuracy: 0.7569\n",
            "Epoch 34/40\n",
            "30/30 [==============================] - 2s 54ms/step - loss: 0.3474 - accuracy: 0.8634 - val_loss: 0.4911 - val_accuracy: 0.7654\n",
            "Epoch 35/40\n",
            "30/30 [==============================] - 2s 54ms/step - loss: 0.3417 - accuracy: 0.8667 - val_loss: 0.4860 - val_accuracy: 0.7673\n",
            "Epoch 36/40\n",
            "30/30 [==============================] - 2s 55ms/step - loss: 0.3327 - accuracy: 0.8729 - val_loss: 0.4859 - val_accuracy: 0.7683\n",
            "Epoch 37/40\n",
            "30/30 [==============================] - 2s 54ms/step - loss: 0.3191 - accuracy: 0.8810 - val_loss: 0.4868 - val_accuracy: 0.7686\n",
            "Epoch 38/40\n",
            "30/30 [==============================] - 2s 55ms/step - loss: 0.3161 - accuracy: 0.8843 - val_loss: 0.4990 - val_accuracy: 0.7653\n",
            "Epoch 39/40\n",
            "30/30 [==============================] - 2s 54ms/step - loss: 0.3263 - accuracy: 0.8702 - val_loss: 0.4882 - val_accuracy: 0.7649\n",
            "Epoch 40/40\n",
            "30/30 [==============================] - 2s 55ms/step - loss: 0.3000 - accuracy: 0.8904 - val_loss: 0.4887 - val_accuracy: 0.7667\n"
          ],
          "name": "stdout"
        }
      ]
    },
    {
      "cell_type": "code",
      "metadata": {
        "colab": {
          "base_uri": "https://localhost:8080/"
        },
        "id": "MZIrKESd70SE",
        "outputId": "5abc3581-3106-4e4c-8a83-a4cf11f4c320"
      },
      "source": [
        "#testing\n",
        "results = model5a.evaluate(X_test_enc, y_test)"
      ],
      "execution_count": null,
      "outputs": [
        {
          "output_type": "stream",
          "text": [
            "782/782 [==============================] - 2s 3ms/step - loss: 0.4888 - accuracy: 0.7686\n"
          ],
          "name": "stdout"
        }
      ]
    },
    {
      "cell_type": "code",
      "metadata": {
        "colab": {
          "base_uri": "https://localhost:8080/"
        },
        "id": "GVf4E-kV70cM",
        "outputId": "25db8bce-d395-4bf3-f93d-61f872d850b0"
      },
      "source": [
        "#loss, accuracy\n",
        "print(results)"
      ],
      "execution_count": null,
      "outputs": [
        {
          "output_type": "stream",
          "text": [
            "[0.488802433013916, 0.7685999870300293]\n"
          ],
          "name": "stdout"
        }
      ]
    },
    {
      "cell_type": "code",
      "metadata": {
        "id": "8nvkxunysjhr",
        "colab": {
          "base_uri": "https://localhost:8080/",
          "height": 369
        },
        "outputId": "a2a715b1-4bb0-42d4-9d90-a3b6d9bdd994"
      },
      "source": [
        "# your code goes here\n",
        "#plot\n",
        "plot_history(history5a.history, path=\"standard.png\")\n",
        "plt.show()"
      ],
      "execution_count": null,
      "outputs": [
        {
          "output_type": "display_data",
          "data": {
            "image/png": "[encoded data removed]",
            "text/plain": [
              "<Figure size 720x360 with 2 Axes>"
            ]
          },
          "metadata": {
            "tags": [],
            "needs_background": "light"
          }
        }
      ]
    },
    {
      "cell_type": "markdown",
      "metadata": {
        "id": "XkQMLxw-wWG6"
      },
      "source": [
        "## **Model 5-2: Adding extra convolutional layer**"
      ]
    },
    {
      "cell_type": "code",
      "metadata": {
        "id": "7nvF662HOoqg",
        "colab": {
          "base_uri": "https://localhost:8080/"
        },
        "outputId": "739c60a7-6c07-40ef-db7a-46fc5d23bad8"
      },
      "source": [
        "# your code goes here\n",
        "\n",
        "#sequential library is used to add layer one by one\n",
        "model5b = Sequential()\n",
        "#first layer --> pretrained embedding layer\n",
        "model5b.add(createPretrainedEmbeddingLayer(wordToGlove, wordToIndex, isTrainable=False))\n",
        "#second layer --> first convolutional layer\n",
        "model5b.add(Conv1D(128, kernel_size= 8, activation=\"relu\", strides=3, name=\"convolutional_layer1\"))\n",
        "#third layer -->  extra convolutional layer\n",
        "model5b.add(Conv1D(128, kernel_size= 8, activation=\"softmax\", strides=3, name=\"convolutional_layer2\"))\n",
        "#fourth layer --> pooling layer \n",
        "model5b.add(GlobalAveragePooling1DMasked())\n",
        "#fifth layer --> dense layer with 16 hidden layers \n",
        "model5b.add(Dense(hidden_layer, activation='sigmoid', name=\"hidden_layer\"))\n",
        "#sixth layer --> dense layer\n",
        "model5b.add(Dense(1, activation='sigmoid', name=\"output_layer\"))\n",
        "\n",
        "model5b.summary()"
      ],
      "execution_count": null,
      "outputs": [
        {
          "output_type": "stream",
          "text": [
            "Model: \"sequential_8\"\n",
            "_________________________________________________________________\n",
            "Layer (type)                 Output Shape              Param #   \n",
            "=================================================================\n",
            "GloVe_Embeddings (Embedding) (None, None, 300)         120000300 \n",
            "_________________________________________________________________\n",
            "convolutional_layer1 (Conv1D (None, None, 128)         230528    \n",
            "_________________________________________________________________\n",
            "convolutional_layer2 (Conv1D (None, None, 128)         98432     \n",
            "_________________________________________________________________\n",
            "global_average_pooling1d_mas (None, 128)               0         \n",
            "_________________________________________________________________\n",
            "hidden_layer (Dense)         (None, 16)                2064      \n",
            "_________________________________________________________________\n",
            "output_layer (Dense)         (None, 1)                 17        \n",
            "=================================================================\n",
            "Total params: 120,331,341\n",
            "Trainable params: 331,041\n",
            "Non-trainable params: 120,000,300\n",
            "_________________________________________________________________\n"
          ],
          "name": "stdout"
        }
      ]
    },
    {
      "cell_type": "code",
      "metadata": {
        "id": "hx8JLl4xPlua"
      },
      "source": [
        "# Train and test the model\n",
        "# your code goes here\n",
        "model5b.compile(optimizer='adam', loss='binary_crossentropy', metrics=['accuracy'])"
      ],
      "execution_count": null,
      "outputs": []
    },
    {
      "cell_type": "code",
      "metadata": {
        "colab": {
          "base_uri": "https://localhost:8080/"
        },
        "id": "pXRGQv1vJbnl",
        "outputId": "b4813639-ddaf-45b0-9ad6-30d3889ec246"
      },
      "source": [
        "#training\n",
        "history5b = model5b.fit(partial_X_train,\n",
        "                    partial_y_train,\n",
        "                    epochs=40,\n",
        "                    batch_size=512,\n",
        "                    validation_data=(X_val, y_val),\n",
        "                    verbose=1)"
      ],
      "execution_count": null,
      "outputs": [
        {
          "output_type": "stream",
          "text": [
            "Epoch 1/40\n",
            "30/30 [==============================] - 4s 63ms/step - loss: 0.7011 - accuracy: 0.4940 - val_loss: 0.6930 - val_accuracy: 0.4998\n",
            "Epoch 2/40\n",
            "30/30 [==============================] - 2s 58ms/step - loss: 0.6932 - accuracy: 0.5042 - val_loss: 0.6933 - val_accuracy: 0.5085\n",
            "Epoch 3/40\n",
            "30/30 [==============================] - 2s 58ms/step - loss: 0.6929 - accuracy: 0.5162 - val_loss: 0.6931 - val_accuracy: 0.5062\n",
            "Epoch 4/40\n",
            "30/30 [==============================] - 2s 58ms/step - loss: 0.6930 - accuracy: 0.5074 - val_loss: 0.6931 - val_accuracy: 0.5018\n",
            "Epoch 5/40\n",
            "30/30 [==============================] - 2s 58ms/step - loss: 0.6931 - accuracy: 0.4971 - val_loss: 0.6934 - val_accuracy: 0.5076\n",
            "Epoch 6/40\n",
            "30/30 [==============================] - 2s 58ms/step - loss: 0.6930 - accuracy: 0.5187 - val_loss: 0.6931 - val_accuracy: 0.5073\n",
            "Epoch 7/40\n",
            "30/30 [==============================] - 2s 58ms/step - loss: 0.6929 - accuracy: 0.5071 - val_loss: 0.6930 - val_accuracy: 0.5007\n",
            "Epoch 8/40\n",
            "30/30 [==============================] - 2s 58ms/step - loss: 0.6930 - accuracy: 0.5112 - val_loss: 0.6931 - val_accuracy: 0.5076\n",
            "Epoch 9/40\n",
            "30/30 [==============================] - 2s 58ms/step - loss: 0.6932 - accuracy: 0.5044 - val_loss: 0.6931 - val_accuracy: 0.5079\n",
            "Epoch 10/40\n",
            "30/30 [==============================] - 2s 58ms/step - loss: 0.6930 - accuracy: 0.5112 - val_loss: 0.6931 - val_accuracy: 0.5091\n",
            "Epoch 11/40\n",
            "30/30 [==============================] - 2s 58ms/step - loss: 0.6927 - accuracy: 0.5079 - val_loss: 0.6908 - val_accuracy: 0.5739\n",
            "Epoch 12/40\n",
            "30/30 [==============================] - 2s 58ms/step - loss: 0.6894 - accuracy: 0.5922 - val_loss: 0.6864 - val_accuracy: 0.6038\n",
            "Epoch 13/40\n",
            "30/30 [==============================] - 2s 58ms/step - loss: 0.6832 - accuracy: 0.6382 - val_loss: 0.6806 - val_accuracy: 0.6684\n",
            "Epoch 14/40\n",
            "30/30 [==============================] - 2s 58ms/step - loss: 0.6769 - accuracy: 0.6808 - val_loss: 0.6753 - val_accuracy: 0.6911\n",
            "Epoch 15/40\n",
            "30/30 [==============================] - 2s 58ms/step - loss: 0.6685 - accuracy: 0.7378 - val_loss: 0.6698 - val_accuracy: 0.6998\n",
            "Epoch 16/40\n",
            "30/30 [==============================] - 2s 58ms/step - loss: 0.6592 - accuracy: 0.7591 - val_loss: 0.6637 - val_accuracy: 0.7052\n",
            "Epoch 17/40\n",
            "30/30 [==============================] - 2s 58ms/step - loss: 0.6488 - accuracy: 0.7792 - val_loss: 0.6596 - val_accuracy: 0.6807\n",
            "Epoch 18/40\n",
            "30/30 [==============================] - 2s 58ms/step - loss: 0.6348 - accuracy: 0.7973 - val_loss: 0.6543 - val_accuracy: 0.6759\n",
            "Epoch 19/40\n",
            "30/30 [==============================] - 2s 58ms/step - loss: 0.6215 - accuracy: 0.8060 - val_loss: 0.6436 - val_accuracy: 0.7178\n",
            "Epoch 20/40\n",
            "30/30 [==============================] - 2s 58ms/step - loss: 0.6010 - accuracy: 0.8414 - val_loss: 0.6332 - val_accuracy: 0.7272\n",
            "Epoch 21/40\n",
            "30/30 [==============================] - 2s 58ms/step - loss: 0.5771 - accuracy: 0.8696 - val_loss: 0.6274 - val_accuracy: 0.7010\n",
            "Epoch 22/40\n",
            "30/30 [==============================] - 2s 58ms/step - loss: 0.5561 - accuracy: 0.8691 - val_loss: 0.6125 - val_accuracy: 0.7430\n",
            "Epoch 23/40\n",
            "30/30 [==============================] - 2s 58ms/step - loss: 0.5245 - accuracy: 0.9058 - val_loss: 0.6020 - val_accuracy: 0.7481\n",
            "Epoch 24/40\n",
            "30/30 [==============================] - 2s 58ms/step - loss: 0.4950 - accuracy: 0.9198 - val_loss: 0.5924 - val_accuracy: 0.7479\n",
            "Epoch 25/40\n",
            "30/30 [==============================] - 2s 58ms/step - loss: 0.4659 - accuracy: 0.9293 - val_loss: 0.5897 - val_accuracy: 0.7250\n",
            "Epoch 26/40\n",
            "30/30 [==============================] - 2s 58ms/step - loss: 0.4411 - accuracy: 0.9286 - val_loss: 0.5728 - val_accuracy: 0.7504\n",
            "Epoch 27/40\n",
            "30/30 [==============================] - 2s 58ms/step - loss: 0.4068 - accuracy: 0.9440 - val_loss: 0.5668 - val_accuracy: 0.7482\n",
            "Epoch 28/40\n",
            "30/30 [==============================] - 2s 58ms/step - loss: 0.3758 - accuracy: 0.9593 - val_loss: 0.5688 - val_accuracy: 0.7317\n",
            "Epoch 29/40\n",
            "30/30 [==============================] - 2s 58ms/step - loss: 0.3531 - accuracy: 0.9575 - val_loss: 0.5497 - val_accuracy: 0.7533\n",
            "Epoch 30/40\n",
            "30/30 [==============================] - 2s 58ms/step - loss: 0.3187 - accuracy: 0.9739 - val_loss: 0.5455 - val_accuracy: 0.7505\n",
            "Epoch 31/40\n",
            "30/30 [==============================] - 2s 58ms/step - loss: 0.2921 - accuracy: 0.9783 - val_loss: 0.5438 - val_accuracy: 0.7461\n",
            "Epoch 32/40\n",
            "30/30 [==============================] - 2s 58ms/step - loss: 0.2663 - accuracy: 0.9841 - val_loss: 0.5321 - val_accuracy: 0.7554\n",
            "Epoch 33/40\n",
            "30/30 [==============================] - 2s 58ms/step - loss: 0.2455 - accuracy: 0.9874 - val_loss: 0.5292 - val_accuracy: 0.7549\n",
            "Epoch 34/40\n",
            "30/30 [==============================] - 2s 58ms/step - loss: 0.2278 - accuracy: 0.9870 - val_loss: 0.5300 - val_accuracy: 0.7507\n",
            "Epoch 35/40\n",
            "30/30 [==============================] - 2s 58ms/step - loss: 0.2060 - accuracy: 0.9899 - val_loss: 0.5218 - val_accuracy: 0.7564\n",
            "Epoch 36/40\n",
            "30/30 [==============================] - 2s 58ms/step - loss: 0.1962 - accuracy: 0.9897 - val_loss: 0.5495 - val_accuracy: 0.7294\n",
            "Epoch 37/40\n",
            "30/30 [==============================] - 2s 58ms/step - loss: 0.1783 - accuracy: 0.9918 - val_loss: 0.5185 - val_accuracy: 0.7570\n",
            "Epoch 38/40\n",
            "30/30 [==============================] - 2s 58ms/step - loss: 0.1597 - accuracy: 0.9943 - val_loss: 0.5260 - val_accuracy: 0.7483\n",
            "Epoch 39/40\n",
            "30/30 [==============================] - 2s 58ms/step - loss: 0.1489 - accuracy: 0.9947 - val_loss: 0.5161 - val_accuracy: 0.7565\n",
            "Epoch 40/40\n",
            "30/30 [==============================] - 2s 58ms/step - loss: 0.1336 - accuracy: 0.9967 - val_loss: 0.5209 - val_accuracy: 0.7481\n"
          ],
          "name": "stdout"
        }
      ]
    },
    {
      "cell_type": "code",
      "metadata": {
        "colab": {
          "base_uri": "https://localhost:8080/"
        },
        "id": "jXFF5wz7Jbvm",
        "outputId": "408a8694-675e-4915-f82b-daceb620aac7"
      },
      "source": [
        "#testing\n",
        "results = model5b.evaluate(X_test_enc, y_test)"
      ],
      "execution_count": null,
      "outputs": [
        {
          "output_type": "stream",
          "text": [
            "782/782 [==============================] - 3s 3ms/step - loss: 0.5261 - accuracy: 0.7428\n"
          ],
          "name": "stdout"
        }
      ]
    },
    {
      "cell_type": "code",
      "metadata": {
        "colab": {
          "base_uri": "https://localhost:8080/"
        },
        "id": "xeBLoUATJqlX",
        "outputId": "82625afc-915e-42fd-97c4-2d3b59836f70"
      },
      "source": [
        "#printing loss, accuracy\n",
        "print(results)"
      ],
      "execution_count": null,
      "outputs": [
        {
          "output_type": "stream",
          "text": [
            "[0.5260874629020691, 0.7428399920463562]\n"
          ],
          "name": "stdout"
        }
      ]
    },
    {
      "cell_type": "code",
      "metadata": {
        "id": "T2-fqNHiRRIe",
        "colab": {
          "base_uri": "https://localhost:8080/",
          "height": 369
        },
        "outputId": "dc99a27e-297a-4566-f0ea-387f416545ad"
      },
      "source": [
        "# your code goes here\n",
        "#plotting\n",
        "plot_history(history5b.history, path=\"standard.png\")\n",
        "plt.show()"
      ],
      "execution_count": null,
      "outputs": [
        {
          "output_type": "display_data",
          "data": {
            "image/png": "[encoded data removed]",
            "text/plain": [
              "<Figure size 720x360 with 2 Axes>"
            ]
          },
          "metadata": {
            "tags": [],
            "needs_background": "light"
          }
        }
      ]
    },
    {
      "cell_type": "markdown",
      "metadata": {
        "id": "CGdVq7ueMppz"
      },
      "source": [
        "*\tboth the models overfits\n",
        "* Adding more the one convolutional layer overfits the model much.\n",
        "* Among the above two models,  One has a single convolutional layer and other has the dual convolutional layer. When comparing these two models, the second model  which has 2 convolution layers Overfits to a larger extent than the first model which has the single convolutional layer.\n"
      ]
    }
  ]
}